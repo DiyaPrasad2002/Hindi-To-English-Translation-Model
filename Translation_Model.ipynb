{
 "cells": [
  {
   "cell_type": "markdown",
   "id": "13d8ed61-9e25-4f5b-8e16-1edf9b4b0534",
   "metadata": {},
   "source": [
    "# English To Hindi Translation Model"
   ]
  },
  {
   "cell_type": "markdown",
   "id": "becec6bf-f6f6-435d-bf5f-94ea5fcc1b95",
   "metadata": {},
   "source": [
    "The aim is to develop a translation model based on an encoder-decoder model architecture using LSTMs. The dataset used is the IIT Bombay English to Hindi translation dataset. "
   ]
  },
  {
   "cell_type": "markdown",
   "id": "fa73ee85-aa4e-401c-8e83-333a9d69f181",
   "metadata": {},
   "source": [
    "### Importing Libraries"
   ]
  },
  {
   "cell_type": "code",
   "execution_count": 1,
   "id": "3cbcddf5-f36d-4f1a-9190-0b5e439583d5",
   "metadata": {},
   "outputs": [],
   "source": [
    "import numpy as np\n",
    "import pandas as pd"
   ]
  },
  {
   "cell_type": "code",
   "execution_count": 2,
   "id": "955140c3-d17a-4540-92ba-ff3e6112b69b",
   "metadata": {},
   "outputs": [
    {
     "name": "stdout",
     "output_type": "stream",
     "text": [
      "Collecting contractions\n",
      "  Downloading contractions-0.1.73-py2.py3-none-any.whl.metadata (1.2 kB)\n",
      "Collecting textsearch>=0.0.21 (from contractions)\n",
      "  Downloading textsearch-0.0.24-py2.py3-none-any.whl.metadata (1.2 kB)\n",
      "Collecting anyascii (from textsearch>=0.0.21->contractions)\n",
      "  Downloading anyascii-0.3.2-py3-none-any.whl.metadata (1.5 kB)\n",
      "Collecting pyahocorasick (from textsearch>=0.0.21->contractions)\n",
      "  Downloading pyahocorasick-2.1.0-cp311-cp311-win_amd64.whl.metadata (13 kB)\n",
      "Downloading contractions-0.1.73-py2.py3-none-any.whl (8.7 kB)\n",
      "Downloading textsearch-0.0.24-py2.py3-none-any.whl (7.6 kB)\n",
      "Downloading anyascii-0.3.2-py3-none-any.whl (289 kB)\n",
      "   ---------------------------------------- 0.0/289.9 kB ? eta -:--:--\n",
      "   - -------------------------------------- 10.2/289.9 kB ? eta -:--:--\n",
      "   ---- ---------------------------------- 30.7/289.9 kB 660.6 kB/s eta 0:00:01\n",
      "   -------- ------------------------------ 61.4/289.9 kB 544.7 kB/s eta 0:00:01\n",
      "   -------------- ----------------------- 112.6/289.9 kB 731.4 kB/s eta 0:00:01\n",
      "   ------------------ ------------------- 143.4/289.9 kB 711.9 kB/s eta 0:00:01\n",
      "   ------------------------- ------------ 194.6/289.9 kB 787.7 kB/s eta 0:00:01\n",
      "   ----------------------------- -------- 225.3/289.9 kB 811.5 kB/s eta 0:00:01\n",
      "   -------------------------------------  286.7/289.9 kB 886.2 kB/s eta 0:00:01\n",
      "   -------------------------------------- 289.9/289.9 kB 852.7 kB/s eta 0:00:00\n",
      "Downloading pyahocorasick-2.1.0-cp311-cp311-win_amd64.whl (39 kB)\n",
      "Installing collected packages: pyahocorasick, anyascii, textsearch, contractions\n",
      "Successfully installed anyascii-0.3.2 contractions-0.1.73 pyahocorasick-2.1.0 textsearch-0.0.24\n"
     ]
    }
   ],
   "source": [
    "!pip install contractions"
   ]
  },
  {
   "cell_type": "code",
   "execution_count": 5,
   "id": "036bafdb-85f3-4e78-80ff-2b79d0577126",
   "metadata": {},
   "outputs": [
    {
     "name": "stdout",
     "output_type": "stream",
     "text": [
      "Collecting wordcloud\n",
      "  Downloading wordcloud-1.9.3-cp311-cp311-win_amd64.whl.metadata (3.5 kB)\n",
      "Requirement already satisfied: numpy>=1.6.1 in c:\\anaconda1\\lib\\site-packages (from wordcloud) (1.26.4)\n",
      "Requirement already satisfied: pillow in c:\\anaconda1\\lib\\site-packages (from wordcloud) (10.2.0)\n",
      "Requirement already satisfied: matplotlib in c:\\anaconda1\\lib\\site-packages (from wordcloud) (3.8.0)\n",
      "Requirement already satisfied: contourpy>=1.0.1 in c:\\anaconda1\\lib\\site-packages (from matplotlib->wordcloud) (1.2.0)\n",
      "Requirement already satisfied: cycler>=0.10 in c:\\anaconda1\\lib\\site-packages (from matplotlib->wordcloud) (0.11.0)\n",
      "Requirement already satisfied: fonttools>=4.22.0 in c:\\anaconda1\\lib\\site-packages (from matplotlib->wordcloud) (4.25.0)\n",
      "Requirement already satisfied: kiwisolver>=1.0.1 in c:\\anaconda1\\lib\\site-packages (from matplotlib->wordcloud) (1.4.4)\n",
      "Requirement already satisfied: packaging>=20.0 in c:\\anaconda1\\lib\\site-packages (from matplotlib->wordcloud) (23.1)\n",
      "Requirement already satisfied: pyparsing>=2.3.1 in c:\\anaconda1\\lib\\site-packages (from matplotlib->wordcloud) (3.0.9)\n",
      "Requirement already satisfied: python-dateutil>=2.7 in c:\\anaconda1\\lib\\site-packages (from matplotlib->wordcloud) (2.8.2)\n",
      "Requirement already satisfied: six>=1.5 in c:\\anaconda1\\lib\\site-packages (from python-dateutil>=2.7->matplotlib->wordcloud) (1.16.0)\n",
      "Downloading wordcloud-1.9.3-cp311-cp311-win_amd64.whl (300 kB)\n",
      "   ---------------------------------------- 0.0/300.2 kB ? eta -:--:--\n",
      "   - -------------------------------------- 10.2/300.2 kB ? eta -:--:--\n",
      "   -------- ------------------------------- 61.4/300.2 kB 1.1 MB/s eta 0:00:01\n",
      "   -------------------------------- ------- 245.8/300.2 kB 2.5 MB/s eta 0:00:01\n",
      "   ---------------------------------------- 300.2/300.2 kB 2.3 MB/s eta 0:00:00\n",
      "Installing collected packages: wordcloud\n",
      "Successfully installed wordcloud-1.9.3\n"
     ]
    }
   ],
   "source": [
    "!pip install wordcloud"
   ]
  },
  {
   "cell_type": "code",
   "execution_count": 7,
   "id": "15f4fbe5-38d2-4f57-80f2-e8533fdd1c7c",
   "metadata": {},
   "outputs": [
    {
     "name": "stdout",
     "output_type": "stream",
     "text": [
      "Collecting spacy\n",
      "  Downloading spacy-3.7.5-cp311-cp311-win_amd64.whl.metadata (27 kB)\n",
      "Collecting spacy-legacy<3.1.0,>=3.0.11 (from spacy)\n",
      "  Downloading spacy_legacy-3.0.12-py2.py3-none-any.whl.metadata (2.8 kB)\n",
      "Collecting spacy-loggers<2.0.0,>=1.0.0 (from spacy)\n",
      "  Downloading spacy_loggers-1.0.5-py3-none-any.whl.metadata (23 kB)\n",
      "Collecting murmurhash<1.1.0,>=0.28.0 (from spacy)\n",
      "  Downloading murmurhash-1.0.10-cp311-cp311-win_amd64.whl.metadata (2.0 kB)\n",
      "Collecting cymem<2.1.0,>=2.0.2 (from spacy)\n",
      "  Downloading cymem-2.0.8-cp311-cp311-win_amd64.whl.metadata (8.6 kB)\n",
      "Collecting preshed<3.1.0,>=3.0.2 (from spacy)\n",
      "  Downloading preshed-3.0.9-cp311-cp311-win_amd64.whl.metadata (2.2 kB)\n",
      "Collecting thinc<8.3.0,>=8.2.2 (from spacy)\n",
      "  Downloading thinc-8.2.5-cp311-cp311-win_amd64.whl.metadata (15 kB)\n",
      "Collecting wasabi<1.2.0,>=0.9.1 (from spacy)\n",
      "  Downloading wasabi-1.1.3-py3-none-any.whl.metadata (28 kB)\n",
      "Collecting srsly<3.0.0,>=2.4.3 (from spacy)\n",
      "  Downloading srsly-2.4.8-cp311-cp311-win_amd64.whl.metadata (20 kB)\n",
      "Collecting catalogue<2.1.0,>=2.0.6 (from spacy)\n",
      "  Downloading catalogue-2.0.10-py3-none-any.whl.metadata (14 kB)\n",
      "Collecting weasel<0.5.0,>=0.1.0 (from spacy)\n",
      "  Downloading weasel-0.4.1-py3-none-any.whl.metadata (4.6 kB)\n",
      "Collecting typer<1.0.0,>=0.3.0 (from spacy)\n",
      "  Downloading typer-0.12.3-py3-none-any.whl.metadata (15 kB)\n",
      "Requirement already satisfied: tqdm<5.0.0,>=4.38.0 in c:\\anaconda1\\lib\\site-packages (from spacy) (4.65.0)\n",
      "Requirement already satisfied: requests<3.0.0,>=2.13.0 in c:\\anaconda1\\lib\\site-packages (from spacy) (2.31.0)\n",
      "Requirement already satisfied: pydantic!=1.8,!=1.8.1,<3.0.0,>=1.7.4 in c:\\anaconda1\\lib\\site-packages (from spacy) (1.10.12)\n",
      "Requirement already satisfied: jinja2 in c:\\anaconda1\\lib\\site-packages (from spacy) (3.1.3)\n",
      "Requirement already satisfied: setuptools in c:\\anaconda1\\lib\\site-packages (from spacy) (68.2.2)\n",
      "Requirement already satisfied: packaging>=20.0 in c:\\anaconda1\\lib\\site-packages (from spacy) (23.1)\n",
      "Collecting langcodes<4.0.0,>=3.2.0 (from spacy)\n",
      "  Downloading langcodes-3.4.0-py3-none-any.whl.metadata (29 kB)\n",
      "Requirement already satisfied: numpy>=1.19.0 in c:\\anaconda1\\lib\\site-packages (from spacy) (1.26.4)\n",
      "Collecting language-data>=1.2 (from langcodes<4.0.0,>=3.2.0->spacy)\n",
      "  Downloading language_data-1.2.0-py3-none-any.whl.metadata (4.3 kB)\n",
      "Requirement already satisfied: typing-extensions>=4.2.0 in c:\\anaconda1\\lib\\site-packages (from pydantic!=1.8,!=1.8.1,<3.0.0,>=1.7.4->spacy) (4.9.0)\n",
      "Requirement already satisfied: charset-normalizer<4,>=2 in c:\\anaconda1\\lib\\site-packages (from requests<3.0.0,>=2.13.0->spacy) (2.0.4)\n",
      "Requirement already satisfied: idna<4,>=2.5 in c:\\anaconda1\\lib\\site-packages (from requests<3.0.0,>=2.13.0->spacy) (3.4)\n",
      "Requirement already satisfied: urllib3<3,>=1.21.1 in c:\\anaconda1\\lib\\site-packages (from requests<3.0.0,>=2.13.0->spacy) (2.0.7)\n",
      "Requirement already satisfied: certifi>=2017.4.17 in c:\\anaconda1\\lib\\site-packages (from requests<3.0.0,>=2.13.0->spacy) (2024.2.2)\n",
      "Collecting blis<0.8.0,>=0.7.8 (from thinc<8.3.0,>=8.2.2->spacy)\n",
      "  Downloading blis-0.7.11-cp311-cp311-win_amd64.whl.metadata (7.6 kB)\n",
      "Collecting confection<1.0.0,>=0.0.1 (from thinc<8.3.0,>=8.2.2->spacy)\n",
      "  Downloading confection-0.1.5-py3-none-any.whl.metadata (19 kB)\n",
      "Requirement already satisfied: colorama in c:\\anaconda1\\lib\\site-packages (from tqdm<5.0.0,>=4.38.0->spacy) (0.4.6)\n",
      "Requirement already satisfied: click>=8.0.0 in c:\\anaconda1\\lib\\site-packages (from typer<1.0.0,>=0.3.0->spacy) (8.1.7)\n",
      "Collecting shellingham>=1.3.0 (from typer<1.0.0,>=0.3.0->spacy)\n",
      "  Downloading shellingham-1.5.4-py2.py3-none-any.whl.metadata (3.5 kB)\n",
      "Requirement already satisfied: rich>=10.11.0 in c:\\anaconda1\\lib\\site-packages (from typer<1.0.0,>=0.3.0->spacy) (13.3.5)\n",
      "Collecting cloudpathlib<1.0.0,>=0.7.0 (from weasel<0.5.0,>=0.1.0->spacy)\n",
      "  Downloading cloudpathlib-0.18.1-py3-none-any.whl.metadata (14 kB)\n",
      "Requirement already satisfied: smart-open<8.0.0,>=5.2.1 in c:\\anaconda1\\lib\\site-packages (from weasel<0.5.0,>=0.1.0->spacy) (5.2.1)\n",
      "Requirement already satisfied: MarkupSafe>=2.0 in c:\\anaconda1\\lib\\site-packages (from jinja2->spacy) (2.1.3)\n",
      "Collecting marisa-trie>=0.7.7 (from language-data>=1.2->langcodes<4.0.0,>=3.2.0->spacy)\n",
      "  Downloading marisa_trie-1.2.0-cp311-cp311-win_amd64.whl.metadata (9.0 kB)\n",
      "Requirement already satisfied: markdown-it-py<3.0.0,>=2.2.0 in c:\\anaconda1\\lib\\site-packages (from rich>=10.11.0->typer<1.0.0,>=0.3.0->spacy) (2.2.0)\n",
      "Requirement already satisfied: pygments<3.0.0,>=2.13.0 in c:\\anaconda1\\lib\\site-packages (from rich>=10.11.0->typer<1.0.0,>=0.3.0->spacy) (2.15.1)\n",
      "Requirement already satisfied: mdurl~=0.1 in c:\\anaconda1\\lib\\site-packages (from markdown-it-py<3.0.0,>=2.2.0->rich>=10.11.0->typer<1.0.0,>=0.3.0->spacy) (0.1.0)\n",
      "Downloading spacy-3.7.5-cp311-cp311-win_amd64.whl (12.1 MB)\n",
      "   ---------------------------------------- 0.0/12.1 MB ? eta -:--:--\n",
      "   ---------------------------------------- 0.0/12.1 MB 991.0 kB/s eta 0:00:13\n",
      "   ---------------------------------------- 0.1/12.1 MB 1.1 MB/s eta 0:00:12\n",
      "   ---------------------------------------- 0.1/12.1 MB 871.5 kB/s eta 0:00:14\n",
      "    --------------------------------------- 0.2/12.1 MB 926.0 kB/s eta 0:00:13\n",
      "    --------------------------------------- 0.2/12.1 MB 935.2 kB/s eta 0:00:13\n",
      "    --------------------------------------- 0.3/12.1 MB 911.0 kB/s eta 0:00:13\n",
      "    --------------------------------------- 0.3/12.1 MB 983.9 kB/s eta 0:00:12\n",
      "    --------------------------------------- 0.3/12.1 MB 983.9 kB/s eta 0:00:12\n",
      "    --------------------------------------- 0.3/12.1 MB 983.9 kB/s eta 0:00:12\n",
      "    --------------------------------------- 0.3/12.1 MB 983.9 kB/s eta 0:00:12\n",
      "    --------------------------------------- 0.3/12.1 MB 983.9 kB/s eta 0:00:12\n",
      "    --------------------------------------- 0.3/12.1 MB 983.9 kB/s eta 0:00:12\n",
      "    --------------------------------------- 0.3/12.1 MB 983.9 kB/s eta 0:00:12\n",
      "    --------------------------------------- 0.3/12.1 MB 983.9 kB/s eta 0:00:12\n",
      "    --------------------------------------- 0.3/12.1 MB 983.9 kB/s eta 0:00:12\n",
      "    --------------------------------------- 0.3/12.1 MB 983.9 kB/s eta 0:00:12\n",
      "    --------------------------------------- 0.3/12.1 MB 983.9 kB/s eta 0:00:12\n",
      "    --------------------------------------- 0.3/12.1 MB 983.9 kB/s eta 0:00:12\n",
      "    --------------------------------------- 0.3/12.1 MB 983.9 kB/s eta 0:00:12\n",
      "   - -------------------------------------- 0.5/12.1 MB 534.9 kB/s eta 0:00:22\n",
      "   - -------------------------------------- 0.5/12.1 MB 534.9 kB/s eta 0:00:22\n",
      "   - -------------------------------------- 0.6/12.1 MB 566.1 kB/s eta 0:00:21\n",
      "   -- ------------------------------------- 0.6/12.1 MB 569.9 kB/s eta 0:00:21\n",
      "   -- ------------------------------------- 0.6/12.1 MB 569.9 kB/s eta 0:00:21\n",
      "   -- ------------------------------------- 0.7/12.1 MB 574.4 kB/s eta 0:00:20\n",
      "   -- ------------------------------------- 0.7/12.1 MB 574.4 kB/s eta 0:00:20\n",
      "   -- ------------------------------------- 0.8/12.1 MB 605.3 kB/s eta 0:00:19\n",
      "   -- ------------------------------------- 0.8/12.1 MB 605.3 kB/s eta 0:00:19\n",
      "   -- ------------------------------------- 0.8/12.1 MB 605.3 kB/s eta 0:00:19\n",
      "   -- ------------------------------------- 0.8/12.1 MB 605.3 kB/s eta 0:00:19\n",
      "   -- ------------------------------------- 0.8/12.1 MB 605.3 kB/s eta 0:00:19\n",
      "   --- ------------------------------------ 1.0/12.1 MB 655.2 kB/s eta 0:00:17\n",
      "   --- ------------------------------------ 1.1/12.1 MB 675.2 kB/s eta 0:00:17\n",
      "   --- ------------------------------------ 1.1/12.1 MB 675.2 kB/s eta 0:00:17\n",
      "   --- ------------------------------------ 1.2/12.1 MB 692.6 kB/s eta 0:00:16\n",
      "   --- ------------------------------------ 1.2/12.1 MB 697.6 kB/s eta 0:00:16\n",
      "   ---- ----------------------------------- 1.2/12.1 MB 696.4 kB/s eta 0:00:16\n",
      "   ---- ----------------------------------- 1.3/12.1 MB 700.9 kB/s eta 0:00:16\n",
      "   ---- ----------------------------------- 1.3/12.1 MB 705.8 kB/s eta 0:00:16\n",
      "   ---- ----------------------------------- 1.4/12.1 MB 714.8 kB/s eta 0:00:15\n",
      "   ---- ----------------------------------- 1.4/12.1 MB 723.9 kB/s eta 0:00:15\n",
      "   ---- ----------------------------------- 1.5/12.1 MB 742.9 kB/s eta 0:00:15\n",
      "   ----- ---------------------------------- 1.5/12.1 MB 756.3 kB/s eta 0:00:14\n",
      "   ----- ---------------------------------- 1.6/12.1 MB 768.7 kB/s eta 0:00:14\n",
      "   ----- ---------------------------------- 1.7/12.1 MB 785.5 kB/s eta 0:00:14\n",
      "   ----- ---------------------------------- 1.8/12.1 MB 806.2 kB/s eta 0:00:13\n",
      "   ------ --------------------------------- 1.8/12.1 MB 816.8 kB/s eta 0:00:13\n",
      "   ------ --------------------------------- 1.9/12.1 MB 836.0 kB/s eta 0:00:13\n",
      "   ------ --------------------------------- 2.0/12.1 MB 850.0 kB/s eta 0:00:12\n",
      "   ------ --------------------------------- 2.1/12.1 MB 867.8 kB/s eta 0:00:12\n",
      "   ------- -------------------------------- 2.1/12.1 MB 876.7 kB/s eta 0:00:12\n",
      "   ------- -------------------------------- 2.2/12.1 MB 885.0 kB/s eta 0:00:12\n",
      "   ------- -------------------------------- 2.3/12.1 MB 902.4 kB/s eta 0:00:11\n",
      "   ------- -------------------------------- 2.3/12.1 MB 905.2 kB/s eta 0:00:11\n",
      "   ------- -------------------------------- 2.4/12.1 MB 917.5 kB/s eta 0:00:11\n",
      "   -------- ------------------------------- 2.4/12.1 MB 918.9 kB/s eta 0:00:11\n",
      "   -------- ------------------------------- 2.5/12.1 MB 925.7 kB/s eta 0:00:11\n",
      "   -------- ------------------------------- 2.6/12.1 MB 939.8 kB/s eta 0:00:11\n",
      "   -------- ------------------------------- 2.6/12.1 MB 947.7 kB/s eta 0:00:10\n",
      "   -------- ------------------------------- 2.6/12.1 MB 947.7 kB/s eta 0:00:10\n",
      "   --------- ------------------------------ 2.8/12.1 MB 979.5 kB/s eta 0:00:10\n",
      "   --------- ------------------------------ 2.9/12.1 MB 998.8 kB/s eta 0:00:10\n",
      "   ---------- ----------------------------- 3.0/12.1 MB 1.0 MB/s eta 0:00:09\n",
      "   ---------- ----------------------------- 3.1/12.1 MB 1.0 MB/s eta 0:00:09\n",
      "   ---------- ----------------------------- 3.2/12.1 MB 1.0 MB/s eta 0:00:09\n",
      "   ---------- ----------------------------- 3.3/12.1 MB 1.1 MB/s eta 0:00:09\n",
      "   ----------- ---------------------------- 3.4/12.1 MB 1.1 MB/s eta 0:00:08\n",
      "   ----------- ---------------------------- 3.6/12.1 MB 1.1 MB/s eta 0:00:08\n",
      "   ------------ --------------------------- 3.7/12.1 MB 1.1 MB/s eta 0:00:08\n",
      "   ------------ --------------------------- 3.8/12.1 MB 1.1 MB/s eta 0:00:08\n",
      "   ------------ --------------------------- 3.9/12.1 MB 1.2 MB/s eta 0:00:08\n",
      "   ------------- -------------------------- 4.0/12.1 MB 1.2 MB/s eta 0:00:07\n",
      "   ------------- -------------------------- 4.1/12.1 MB 1.2 MB/s eta 0:00:07\n",
      "   -------------- ------------------------- 4.3/12.1 MB 1.2 MB/s eta 0:00:07\n",
      "   -------------- ------------------------- 4.4/12.1 MB 1.2 MB/s eta 0:00:07\n",
      "   -------------- ------------------------- 4.5/12.1 MB 1.3 MB/s eta 0:00:07\n",
      "   --------------- ------------------------ 4.6/12.1 MB 1.3 MB/s eta 0:00:06\n",
      "   --------------- ------------------------ 4.7/12.1 MB 1.3 MB/s eta 0:00:06\n",
      "   ---------------- ----------------------- 4.9/12.1 MB 1.3 MB/s eta 0:00:06\n",
      "   ---------------- ----------------------- 5.0/12.1 MB 1.3 MB/s eta 0:00:06\n",
      "   ----------------- ---------------------- 5.2/12.1 MB 1.3 MB/s eta 0:00:06\n",
      "   ----------------- ---------------------- 5.3/12.1 MB 1.4 MB/s eta 0:00:05\n",
      "   ----------------- ---------------------- 5.4/12.1 MB 1.4 MB/s eta 0:00:05\n",
      "   ------------------ --------------------- 5.6/12.1 MB 1.4 MB/s eta 0:00:05\n",
      "   ------------------- -------------------- 5.7/12.1 MB 1.4 MB/s eta 0:00:05\n",
      "   ------------------- -------------------- 5.9/12.1 MB 1.4 MB/s eta 0:00:05\n",
      "   -------------------- ------------------- 6.1/12.1 MB 1.5 MB/s eta 0:00:05\n",
      "   -------------------- ------------------- 6.2/12.1 MB 1.5 MB/s eta 0:00:04\n",
      "   --------------------- ------------------ 6.3/12.1 MB 1.5 MB/s eta 0:00:04\n",
      "   --------------------- ------------------ 6.5/12.1 MB 1.5 MB/s eta 0:00:04\n",
      "   --------------------- ------------------ 6.5/12.1 MB 1.5 MB/s eta 0:00:04\n",
      "   ---------------------- ----------------- 6.7/12.1 MB 1.5 MB/s eta 0:00:04\n",
      "   ----------------------- ---------------- 7.0/12.1 MB 1.6 MB/s eta 0:00:04\n",
      "   ----------------------- ---------------- 7.0/12.1 MB 1.6 MB/s eta 0:00:04\n",
      "   ----------------------- ---------------- 7.2/12.1 MB 1.6 MB/s eta 0:00:04\n",
      "   ------------------------ --------------- 7.4/12.1 MB 1.6 MB/s eta 0:00:03\n",
      "   ------------------------ --------------- 7.5/12.1 MB 1.6 MB/s eta 0:00:03\n",
      "   ------------------------- -------------- 7.6/12.1 MB 1.6 MB/s eta 0:00:03\n",
      "   ------------------------- -------------- 7.7/12.1 MB 1.7 MB/s eta 0:00:03\n",
      "   ------------------------- -------------- 7.8/12.1 MB 1.7 MB/s eta 0:00:03\n",
      "   -------------------------- ------------- 8.0/12.1 MB 1.7 MB/s eta 0:00:03\n",
      "   -------------------------- ------------- 8.1/12.1 MB 1.7 MB/s eta 0:00:03\n",
      "   --------------------------- ------------ 8.2/12.1 MB 1.7 MB/s eta 0:00:03\n",
      "   --------------------------- ------------ 8.3/12.1 MB 1.7 MB/s eta 0:00:03\n",
      "   --------------------------- ------------ 8.4/12.1 MB 1.7 MB/s eta 0:00:03\n",
      "   ---------------------------- ----------- 8.6/12.1 MB 1.7 MB/s eta 0:00:03\n",
      "   ---------------------------- ----------- 8.7/12.1 MB 1.7 MB/s eta 0:00:02\n",
      "   ----------------------------- ---------- 8.8/12.1 MB 1.7 MB/s eta 0:00:02\n",
      "   ----------------------------- ---------- 8.9/12.1 MB 1.7 MB/s eta 0:00:02\n",
      "   ----------------------------- ---------- 9.0/12.1 MB 1.7 MB/s eta 0:00:02\n",
      "   ------------------------------ --------- 9.1/12.1 MB 1.7 MB/s eta 0:00:02\n",
      "   ------------------------------ --------- 9.2/12.1 MB 1.7 MB/s eta 0:00:02\n",
      "   ------------------------------ --------- 9.3/12.1 MB 1.8 MB/s eta 0:00:02\n",
      "   ------------------------------- -------- 9.5/12.1 MB 1.8 MB/s eta 0:00:02\n",
      "   ------------------------------- -------- 9.6/12.1 MB 1.8 MB/s eta 0:00:02\n",
      "   -------------------------------- ------- 9.7/12.1 MB 1.8 MB/s eta 0:00:02\n",
      "   -------------------------------- ------- 9.8/12.1 MB 1.8 MB/s eta 0:00:02\n",
      "   -------------------------------- ------- 9.8/12.1 MB 1.8 MB/s eta 0:00:02\n",
      "   -------------------------------- ------- 9.8/12.1 MB 1.8 MB/s eta 0:00:02\n",
      "   --------------------------------- ------ 10.0/12.1 MB 1.8 MB/s eta 0:00:02\n",
      "   --------------------------------- ------ 10.1/12.1 MB 1.8 MB/s eta 0:00:02\n",
      "   ---------------------------------- ----- 10.3/12.1 MB 1.8 MB/s eta 0:00:01\n",
      "   ---------------------------------- ----- 10.5/12.1 MB 1.8 MB/s eta 0:00:01\n",
      "   ----------------------------------- ---- 10.6/12.1 MB 2.1 MB/s eta 0:00:01\n",
      "   ----------------------------------- ---- 10.7/12.1 MB 2.1 MB/s eta 0:00:01\n",
      "   ----------------------------------- ---- 10.7/12.1 MB 2.0 MB/s eta 0:00:01\n",
      "   ----------------------------------- ---- 10.7/12.1 MB 2.0 MB/s eta 0:00:01\n",
      "   ----------------------------------- ---- 10.8/12.1 MB 2.0 MB/s eta 0:00:01\n",
      "   ----------------------------------- ---- 10.8/12.1 MB 2.0 MB/s eta 0:00:01\n",
      "   ----------------------------------- ---- 10.8/12.1 MB 2.0 MB/s eta 0:00:01\n",
      "   ----------------------------------- ---- 10.9/12.1 MB 2.1 MB/s eta 0:00:01\n",
      "   ------------------------------------ --- 11.0/12.1 MB 2.1 MB/s eta 0:00:01\n",
      "   ------------------------------------ --- 11.1/12.1 MB 2.1 MB/s eta 0:00:01\n",
      "   ------------------------------------- -- 11.3/12.1 MB 2.1 MB/s eta 0:00:01\n",
      "   ------------------------------------- -- 11.4/12.1 MB 2.2 MB/s eta 0:00:01\n",
      "   -------------------------------------- - 11.6/12.1 MB 2.3 MB/s eta 0:00:01\n",
      "   -------------------------------------- - 11.7/12.1 MB 2.3 MB/s eta 0:00:01\n",
      "   ---------------------------------------  11.9/12.1 MB 2.3 MB/s eta 0:00:01\n",
      "   ---------------------------------------  12.1/12.1 MB 2.4 MB/s eta 0:00:01\n",
      "   ---------------------------------------  12.1/12.1 MB 2.4 MB/s eta 0:00:01\n",
      "   ---------------------------------------- 12.1/12.1 MB 2.4 MB/s eta 0:00:00\n",
      "Downloading catalogue-2.0.10-py3-none-any.whl (17 kB)\n",
      "Downloading cymem-2.0.8-cp311-cp311-win_amd64.whl (39 kB)\n",
      "Downloading langcodes-3.4.0-py3-none-any.whl (182 kB)\n",
      "   ---------------------------------------- 0.0/182.0 kB ? eta -:--:--\n",
      "   -------------------------------------- - 174.1/182.0 kB 5.3 MB/s eta 0:00:01\n",
      "   ---------------------------------------- 182.0/182.0 kB 5.5 MB/s eta 0:00:00\n",
      "Downloading murmurhash-1.0.10-cp311-cp311-win_amd64.whl (25 kB)\n",
      "Downloading preshed-3.0.9-cp311-cp311-win_amd64.whl (122 kB)\n",
      "   ---------------------------------------- 0.0/122.3 kB ? eta -:--:--\n",
      "   ---------------------------------------- 122.3/122.3 kB 3.6 MB/s eta 0:00:00\n",
      "Downloading spacy_legacy-3.0.12-py2.py3-none-any.whl (29 kB)\n",
      "Downloading spacy_loggers-1.0.5-py3-none-any.whl (22 kB)\n",
      "Downloading srsly-2.4.8-cp311-cp311-win_amd64.whl (479 kB)\n",
      "   ---------------------------------------- 0.0/479.7 kB ? eta -:--:--\n",
      "   ---------------- ----------------------- 194.6/479.7 kB 5.9 MB/s eta 0:00:01\n",
      "   -------------------------------- ------- 389.1/479.7 kB 4.9 MB/s eta 0:00:01\n",
      "   ---------------------------------------- 479.7/479.7 kB 4.3 MB/s eta 0:00:00\n",
      "Downloading thinc-8.2.5-cp311-cp311-win_amd64.whl (1.5 MB)\n",
      "   ---------------------------------------- 0.0/1.5 MB ? eta -:--:--\n",
      "   ----------- ---------------------------- 0.4/1.5 MB 13.4 MB/s eta 0:00:01\n",
      "   --------------- ------------------------ 0.6/1.5 MB 9.1 MB/s eta 0:00:01\n",
      "   --------------- ------------------------ 0.6/1.5 MB 9.1 MB/s eta 0:00:01\n",
      "   ------------------------- -------------- 0.9/1.5 MB 5.9 MB/s eta 0:00:01\n",
      "   --------------------------- ------------ 1.0/1.5 MB 5.4 MB/s eta 0:00:01\n",
      "   --------------------------------- ------ 1.2/1.5 MB 5.2 MB/s eta 0:00:01\n",
      "   ------------------------------------- -- 1.4/1.5 MB 4.9 MB/s eta 0:00:01\n",
      "   ------------------------------------- -- 1.4/1.5 MB 4.9 MB/s eta 0:00:01\n",
      "   ---------------------------------------- 1.5/1.5 MB 3.8 MB/s eta 0:00:00\n",
      "Downloading typer-0.12.3-py3-none-any.whl (47 kB)\n",
      "   ---------------------------------------- 0.0/47.2 kB ? eta -:--:--\n",
      "   ---------------------------------------- 47.2/47.2 kB 2.3 MB/s eta 0:00:00\n",
      "Downloading wasabi-1.1.3-py3-none-any.whl (27 kB)\n",
      "Downloading weasel-0.4.1-py3-none-any.whl (50 kB)\n",
      "   ---------------------------------------- 0.0/50.3 kB ? eta -:--:--\n",
      "   ---------------------------------------- 50.3/50.3 kB 2.5 MB/s eta 0:00:00\n",
      "Downloading blis-0.7.11-cp311-cp311-win_amd64.whl (6.6 MB)\n",
      "   ---------------------------------------- 0.0/6.6 MB ? eta -:--:--\n",
      "   ---------------------------------------- 0.0/6.6 MB 2.0 MB/s eta 0:00:04\n",
      "    --------------------------------------- 0.1/6.6 MB 1.3 MB/s eta 0:00:05\n",
      "   - -------------------------------------- 0.2/6.6 MB 1.7 MB/s eta 0:00:04\n",
      "   - -------------------------------------- 0.3/6.6 MB 1.7 MB/s eta 0:00:04\n",
      "   -- ------------------------------------- 0.5/6.6 MB 2.0 MB/s eta 0:00:04\n",
      "   --- ------------------------------------ 0.6/6.6 MB 2.1 MB/s eta 0:00:03\n",
      "   --- ------------------------------------ 0.6/6.6 MB 2.0 MB/s eta 0:00:03\n",
      "   ---- ----------------------------------- 0.7/6.6 MB 2.0 MB/s eta 0:00:03\n",
      "   ----- ---------------------------------- 0.9/6.6 MB 2.2 MB/s eta 0:00:03\n",
      "   ------- -------------------------------- 1.2/6.6 MB 2.5 MB/s eta 0:00:03\n",
      "   -------- ------------------------------- 1.4/6.6 MB 2.7 MB/s eta 0:00:02\n",
      "   --------- ------------------------------ 1.6/6.6 MB 2.9 MB/s eta 0:00:02\n",
      "   ----------- ---------------------------- 1.9/6.6 MB 3.1 MB/s eta 0:00:02\n",
      "   ------------ --------------------------- 2.1/6.6 MB 3.2 MB/s eta 0:00:02\n",
      "   -------------- ------------------------- 2.4/6.6 MB 3.3 MB/s eta 0:00:02\n",
      "   --------------- ------------------------ 2.6/6.6 MB 3.4 MB/s eta 0:00:02\n",
      "   ----------------- ---------------------- 2.8/6.6 MB 3.6 MB/s eta 0:00:02\n",
      "   ------------------ --------------------- 3.1/6.6 MB 3.7 MB/s eta 0:00:01\n",
      "   -------------------- ------------------- 3.3/6.6 MB 3.8 MB/s eta 0:00:01\n",
      "   --------------------- ------------------ 3.6/6.6 MB 3.8 MB/s eta 0:00:01\n",
      "   ----------------------- ---------------- 3.9/6.6 MB 3.9 MB/s eta 0:00:01\n",
      "   ------------------------ --------------- 4.1/6.6 MB 4.0 MB/s eta 0:00:01\n",
      "   -------------------------- ------------- 4.4/6.6 MB 4.0 MB/s eta 0:00:01\n",
      "   --------------------------- ------------ 4.6/6.6 MB 4.1 MB/s eta 0:00:01\n",
      "   ----------------------------- ---------- 4.8/6.6 MB 4.1 MB/s eta 0:00:01\n",
      "   ------------------------------- -------- 5.1/6.6 MB 4.2 MB/s eta 0:00:01\n",
      "   -------------------------------- ------- 5.4/6.6 MB 4.2 MB/s eta 0:00:01\n",
      "   ---------------------------------- ----- 5.7/6.6 MB 4.3 MB/s eta 0:00:01\n",
      "   ------------------------------------ --- 5.9/6.6 MB 4.3 MB/s eta 0:00:01\n",
      "   ------------------------------------- -- 6.2/6.6 MB 4.4 MB/s eta 0:00:01\n",
      "   ---------------------------------------  6.5/6.6 MB 4.4 MB/s eta 0:00:01\n",
      "   ---------------------------------------  6.6/6.6 MB 4.4 MB/s eta 0:00:01\n",
      "   ---------------------------------------- 6.6/6.6 MB 4.4 MB/s eta 0:00:00\n",
      "Downloading cloudpathlib-0.18.1-py3-none-any.whl (47 kB)\n",
      "   ---------------------------------------- 0.0/47.3 kB ? eta -:--:--\n",
      "   ---------------------------------------- 47.3/47.3 kB ? eta 0:00:00\n",
      "Downloading confection-0.1.5-py3-none-any.whl (35 kB)\n",
      "Downloading language_data-1.2.0-py3-none-any.whl (5.4 MB)\n",
      "   ---------------------------------------- 0.0/5.4 MB ? eta -:--:--\n",
      "   -- ------------------------------------- 0.3/5.4 MB 5.7 MB/s eta 0:00:01\n",
      "   ---- ----------------------------------- 0.6/5.4 MB 5.8 MB/s eta 0:00:01\n",
      "   ------ --------------------------------- 0.8/5.4 MB 5.8 MB/s eta 0:00:01\n",
      "   -------- ------------------------------- 1.1/5.4 MB 5.8 MB/s eta 0:00:01\n",
      "   ---------- ----------------------------- 1.4/5.4 MB 5.7 MB/s eta 0:00:01\n",
      "   ------------ --------------------------- 1.6/5.4 MB 5.8 MB/s eta 0:00:01\n",
      "   -------------- ------------------------- 1.9/5.4 MB 5.8 MB/s eta 0:00:01\n",
      "   ---------------- ----------------------- 2.2/5.4 MB 5.8 MB/s eta 0:00:01\n",
      "   ------------------ --------------------- 2.4/5.4 MB 5.8 MB/s eta 0:00:01\n",
      "   -------------------- ------------------- 2.7/5.4 MB 5.8 MB/s eta 0:00:01\n",
      "   ---------------------- ----------------- 3.0/5.4 MB 5.8 MB/s eta 0:00:01\n",
      "   ------------------------ --------------- 3.3/5.4 MB 5.8 MB/s eta 0:00:01\n",
      "   -------------------------- ------------- 3.5/5.4 MB 5.7 MB/s eta 0:00:01\n",
      "   ---------------------------- ----------- 3.8/5.4 MB 5.7 MB/s eta 0:00:01\n",
      "   ----------------------------- ---------- 4.0/5.4 MB 5.7 MB/s eta 0:00:01\n",
      "   ------------------------------- -------- 4.3/5.4 MB 5.7 MB/s eta 0:00:01\n",
      "   --------------------------------- ------ 4.6/5.4 MB 5.7 MB/s eta 0:00:01\n",
      "   ----------------------------------- ---- 4.8/5.4 MB 5.7 MB/s eta 0:00:01\n",
      "   ------------------------------------- -- 5.1/5.4 MB 5.7 MB/s eta 0:00:01\n",
      "   ---------------------------------------  5.4/5.4 MB 5.6 MB/s eta 0:00:01\n",
      "   ---------------------------------------- 5.4/5.4 MB 5.5 MB/s eta 0:00:00\n",
      "Downloading shellingham-1.5.4-py2.py3-none-any.whl (9.8 kB)\n",
      "Downloading marisa_trie-1.2.0-cp311-cp311-win_amd64.whl (152 kB)\n",
      "   ---------------------------------------- 0.0/152.6 kB ? eta -:--:--\n",
      "   ---------------------------------------- 152.6/152.6 kB 8.9 MB/s eta 0:00:00\n",
      "Installing collected packages: cymem, wasabi, spacy-loggers, spacy-legacy, shellingham, murmurhash, marisa-trie, cloudpathlib, catalogue, blis, srsly, preshed, language-data, typer, langcodes, confection, weasel, thinc, spacy\n",
      "Successfully installed blis-0.7.11 catalogue-2.0.10 cloudpathlib-0.18.1 confection-0.1.5 cymem-2.0.8 langcodes-3.4.0 language-data-1.2.0 marisa-trie-1.2.0 murmurhash-1.0.10 preshed-3.0.9 shellingham-1.5.4 spacy-3.7.5 spacy-legacy-3.0.12 spacy-loggers-1.0.5 srsly-2.4.8 thinc-8.2.5 typer-0.12.3 wasabi-1.1.3 weasel-0.4.1\n"
     ]
    }
   ],
   "source": [
    "!pip install spacy"
   ]
  },
  {
   "cell_type": "code",
   "execution_count": 2,
   "id": "6f91c9a8-c4d1-4196-9618-b15ae94953a9",
   "metadata": {},
   "outputs": [],
   "source": [
    "import re\n",
    "import nltk\n",
    "from nltk.tokenize import word_tokenize,sent_tokenize\n",
    "from nltk.corpus import indian\n",
    "from nltk.stem.porter import PorterStemmer\n",
    "from wordcloud import WordCloud\n",
    "import matplotlib.pyplot as plt\n",
    "import unicodedata\n",
    "from keras.models import Sequential,Model\n",
    "from keras.layers import Input,Embedding, LSTM, Dense\n",
    "from tensorflow.keras.preprocessing.text import Tokenizer\n",
    "from sklearn.model_selection import train_test_split\n",
    "from tensorflow.keras.preprocessing.sequence import pad_sequences\n",
    "import string\n",
    "import spacy\n",
    "import contractions\n",
    "from nltk.corpus import stopwords\n",
    "import numpy as np\n",
    "import pandas as pd "
   ]
  },
  {
   "cell_type": "markdown",
   "id": "0acde8ac-7629-42f3-ab72-ecd0b918faee",
   "metadata": {},
   "source": [
    "### Importing dataset"
   ]
  },
  {
   "cell_type": "code",
   "execution_count": 5,
   "id": "2d130f18-75f7-43fe-b651-c129d3e47155",
   "metadata": {},
   "outputs": [],
   "source": [
    "data = pd.read_csv(\"newdata.csv\")"
   ]
  },
  {
   "cell_type": "code",
   "execution_count": 6,
   "id": "b4e6708b-dc41-4d33-86d6-3e0f6c67cf06",
   "metadata": {},
   "outputs": [
    {
     "data": {
      "text/html": [
       "<div>\n",
       "<style scoped>\n",
       "    .dataframe tbody tr th:only-of-type {\n",
       "        vertical-align: middle;\n",
       "    }\n",
       "\n",
       "    .dataframe tbody tr th {\n",
       "        vertical-align: top;\n",
       "    }\n",
       "\n",
       "    .dataframe thead th {\n",
       "        text-align: right;\n",
       "    }\n",
       "</style>\n",
       "<table border=\"1\" class=\"dataframe\">\n",
       "  <thead>\n",
       "    <tr style=\"text-align: right;\">\n",
       "      <th></th>\n",
       "      <th>english</th>\n",
       "      <th>hindi</th>\n",
       "    </tr>\n",
       "  </thead>\n",
       "  <tbody>\n",
       "    <tr>\n",
       "      <th>0</th>\n",
       "      <td>On the other hand , it has been observed that ...</td>\n",
       "      <td>इसके विपरीत देखा यह गया है कि उपयुक़्त आयु में...</td>\n",
       "    </tr>\n",
       "    <tr>\n",
       "      <th>1</th>\n",
       "      <td>Now we may find that there are places that are...</td>\n",
       "      <td>अब यह भी हो सकता है कि हमें ऐसे स्थान मिलें जो...</td>\n",
       "    </tr>\n",
       "    <tr>\n",
       "      <th>2</th>\n",
       "      <td>He has never told a lie.</td>\n",
       "      <td>उसने कभी झूठ नही बोला है.</td>\n",
       "    </tr>\n",
       "    <tr>\n",
       "      <th>3</th>\n",
       "      <td>I can tell you it's a magnificent spread.</td>\n",
       "      <td>मैं आप को बता सकता हूँ कि वो बहुत ही भव्य है॰</td>\n",
       "    </tr>\n",
       "    <tr>\n",
       "      <th>4</th>\n",
       "      <td>And one of them came to me the next morning an...</td>\n",
       "      <td>और उनमें से एक मेरे पास अगली सुबह आया और बोला,</td>\n",
       "    </tr>\n",
       "  </tbody>\n",
       "</table>\n",
       "</div>"
      ],
      "text/plain": [
       "                                            english   \\\n",
       "0  On the other hand , it has been observed that ...   \n",
       "1  Now we may find that there are places that are...   \n",
       "2                           He has never told a lie.   \n",
       "3          I can tell you it's a magnificent spread.   \n",
       "4  And one of them came to me the next morning an...   \n",
       "\n",
       "                                               hindi  \n",
       "0  इसके विपरीत देखा यह गया है कि उपयुक़्त आयु में...  \n",
       "1  अब यह भी हो सकता है कि हमें ऐसे स्थान मिलें जो...  \n",
       "2                          उसने कभी झूठ नही बोला है.  \n",
       "3      मैं आप को बता सकता हूँ कि वो बहुत ही भव्य है॰  \n",
       "4     और उनमें से एक मेरे पास अगली सुबह आया और बोला,  "
      ]
     },
     "execution_count": 6,
     "metadata": {},
     "output_type": "execute_result"
    }
   ],
   "source": [
    "data.head()"
   ]
  },
  {
   "cell_type": "code",
   "execution_count": 7,
   "id": "4697ba5b-a78f-4c80-bdee-4f0c4c864052",
   "metadata": {},
   "outputs": [
    {
     "name": "stdout",
     "output_type": "stream",
     "text": [
      "<class 'pandas.core.frame.DataFrame'>\n",
      "RangeIndex: 1210 entries, 0 to 1209\n",
      "Data columns (total 2 columns):\n",
      " #   Column    Non-Null Count  Dtype \n",
      "---  ------    --------------  ----- \n",
      " 0   english   1210 non-null   object\n",
      " 1   hindi     1206 non-null   object\n",
      "dtypes: object(2)\n",
      "memory usage: 19.0+ KB\n"
     ]
    }
   ],
   "source": [
    "data.info()"
   ]
  },
  {
   "cell_type": "code",
   "execution_count": 8,
   "id": "941d59cf-9e6c-4640-b64e-f05549e68394",
   "metadata": {},
   "outputs": [
    {
     "data": {
      "text/html": [
       "<div>\n",
       "<style scoped>\n",
       "    .dataframe tbody tr th:only-of-type {\n",
       "        vertical-align: middle;\n",
       "    }\n",
       "\n",
       "    .dataframe tbody tr th {\n",
       "        vertical-align: top;\n",
       "    }\n",
       "\n",
       "    .dataframe thead th {\n",
       "        text-align: right;\n",
       "    }\n",
       "</style>\n",
       "<table border=\"1\" class=\"dataframe\">\n",
       "  <thead>\n",
       "    <tr style=\"text-align: right;\">\n",
       "      <th></th>\n",
       "      <th>english</th>\n",
       "      <th>hindi</th>\n",
       "    </tr>\n",
       "  </thead>\n",
       "  <tbody>\n",
       "    <tr>\n",
       "      <th>count</th>\n",
       "      <td>1210</td>\n",
       "      <td>1206</td>\n",
       "    </tr>\n",
       "    <tr>\n",
       "      <th>unique</th>\n",
       "      <td>1199</td>\n",
       "      <td>1194</td>\n",
       "    </tr>\n",
       "    <tr>\n",
       "      <th>top</th>\n",
       "      <td>(Laughter)</td>\n",
       "      <td>(हंसी)</td>\n",
       "    </tr>\n",
       "    <tr>\n",
       "      <th>freq</th>\n",
       "      <td>7</td>\n",
       "      <td>4</td>\n",
       "    </tr>\n",
       "  </tbody>\n",
       "</table>\n",
       "</div>"
      ],
      "text/plain": [
       "          english    hindi\n",
       "count         1210    1206\n",
       "unique        1199    1194\n",
       "top     (Laughter)  (हंसी)\n",
       "freq             7       4"
      ]
     },
     "execution_count": 8,
     "metadata": {},
     "output_type": "execute_result"
    }
   ],
   "source": [
    "data.describe()"
   ]
  },
  {
   "cell_type": "markdown",
   "id": "1ebed989-9661-42ea-9eff-19cbfc77d990",
   "metadata": {},
   "source": [
    "### Data Preprocessing "
   ]
  },
  {
   "cell_type": "code",
   "execution_count": 9,
   "id": "ca1edf1e-fb7b-43b6-9ba9-1ade4e14077f",
   "metadata": {},
   "outputs": [
    {
     "data": {
      "text/plain": [
       "english     0\n",
       "hindi       4\n",
       "dtype: int64"
      ]
     },
     "execution_count": 9,
     "metadata": {},
     "output_type": "execute_result"
    }
   ],
   "source": [
    "data.isnull().sum()"
   ]
  },
  {
   "cell_type": "code",
   "execution_count": 10,
   "id": "a131b078-abd4-406b-bf28-c86d5a3a8dfd",
   "metadata": {},
   "outputs": [],
   "source": [
    "data.dropna(inplace = True)"
   ]
  },
  {
   "cell_type": "code",
   "execution_count": 11,
   "id": "cf858f5c-ee2d-404e-9289-60ae17c43439",
   "metadata": {},
   "outputs": [
    {
     "name": "stdout",
     "output_type": "stream",
     "text": [
      "<class 'pandas.core.frame.DataFrame'>\n",
      "Index: 1206 entries, 0 to 1209\n",
      "Data columns (total 2 columns):\n",
      " #   Column    Non-Null Count  Dtype \n",
      "---  ------    --------------  ----- \n",
      " 0   english   1206 non-null   object\n",
      " 1   hindi     1206 non-null   object\n",
      "dtypes: object(2)\n",
      "memory usage: 28.3+ KB\n"
     ]
    }
   ],
   "source": [
    "data.info()"
   ]
  },
  {
   "cell_type": "code",
   "execution_count": 12,
   "id": "305bb5dd-e1b2-4ced-a5bc-d8bf5eb1888d",
   "metadata": {},
   "outputs": [
    {
     "data": {
      "text/html": [
       "<div>\n",
       "<style scoped>\n",
       "    .dataframe tbody tr th:only-of-type {\n",
       "        vertical-align: middle;\n",
       "    }\n",
       "\n",
       "    .dataframe tbody tr th {\n",
       "        vertical-align: top;\n",
       "    }\n",
       "\n",
       "    .dataframe thead th {\n",
       "        text-align: right;\n",
       "    }\n",
       "</style>\n",
       "<table border=\"1\" class=\"dataframe\">\n",
       "  <thead>\n",
       "    <tr style=\"text-align: right;\">\n",
       "      <th></th>\n",
       "      <th>english</th>\n",
       "      <th>hindi</th>\n",
       "    </tr>\n",
       "  </thead>\n",
       "  <tbody>\n",
       "    <tr>\n",
       "      <th>251</th>\n",
       "      <td>Haj - this is a religious travel done at the e...</td>\n",
       "      <td>तीर्थ यात्रा (हज)- हज उस धार्मिक तीर्थ यात्रा ...</td>\n",
       "    </tr>\n",
       "    <tr>\n",
       "      <th>135</th>\n",
       "      <td>A . I believe it is in the interest of the peo...</td>\n",
       "      <td>मेरा मानना है कि जनता , देश और सामाजिक सुधारों...</td>\n",
       "    </tr>\n",
       "    <tr>\n",
       "      <th>342</th>\n",
       "      <td>The pillars inside the mandapa are exquisitely...</td>\n",
       "      <td>मंडप के भीतर के स्तंभ उत्कृष्ट रूप से खराद पर ...</td>\n",
       "    </tr>\n",
       "    <tr>\n",
       "      <th>575</th>\n",
       "      <td>From early times , the decisions of Panchayats...</td>\n",
       "      <td>आरंभिक काल से ही , पंचायतों के निर्णयों को बाध...</td>\n",
       "    </tr>\n",
       "    <tr>\n",
       "      <th>393</th>\n",
       "      <td>Fruit</td>\n",
       "      <td>फल</td>\n",
       "    </tr>\n",
       "    <tr>\n",
       "      <th>1022</th>\n",
       "      <td>it is mentioned four apologias for a descripti...</td>\n",
       "      <td>एक विश्लेषण अमेरिकी खुफिया के लिए तैयार में चा...</td>\n",
       "    </tr>\n",
       "    <tr>\n",
       "      <th>190</th>\n",
       "      <td>This is free WiFi.</td>\n",
       "      <td>ये फ्री वाई-फाई है.</td>\n",
       "    </tr>\n",
       "    <tr>\n",
       "      <th>8</th>\n",
       "      <td>Most of the Puranas are named after Vishnu and...</td>\n",
       "      <td>अधिकांश पूराण विष्णु के नाम से हैं और कुछ ब्रह...</td>\n",
       "    </tr>\n",
       "    <tr>\n",
       "      <th>664</th>\n",
       "      <td>In August 2006, The Wall Street Journal publis...</td>\n",
       "      <td>अगस्त २००६ मेंवाल स्ट्रीट जर्नल (The Wall Stre...</td>\n",
       "    </tr>\n",
       "    <tr>\n",
       "      <th>807</th>\n",
       "      <td>The cultural history of India , as of other co...</td>\n",
       "      <td>अन्य देशों की भांति भारत के सांस्कृतिक इतिहास ...</td>\n",
       "    </tr>\n",
       "  </tbody>\n",
       "</table>\n",
       "</div>"
      ],
      "text/plain": [
       "                                               english   \\\n",
       "251   Haj - this is a religious travel done at the e...   \n",
       "135   A . I believe it is in the interest of the peo...   \n",
       "342   The pillars inside the mandapa are exquisitely...   \n",
       "575   From early times , the decisions of Panchayats...   \n",
       "393                                               Fruit   \n",
       "1022  it is mentioned four apologias for a descripti...   \n",
       "190                                  This is free WiFi.   \n",
       "8     Most of the Puranas are named after Vishnu and...   \n",
       "664   In August 2006, The Wall Street Journal publis...   \n",
       "807   The cultural history of India , as of other co...   \n",
       "\n",
       "                                                  hindi  \n",
       "251   तीर्थ यात्रा (हज)- हज उस धार्मिक तीर्थ यात्रा ...  \n",
       "135   मेरा मानना है कि जनता , देश और सामाजिक सुधारों...  \n",
       "342   मंडप के भीतर के स्तंभ उत्कृष्ट रूप से खराद पर ...  \n",
       "575   आरंभिक काल से ही , पंचायतों के निर्णयों को बाध...  \n",
       "393                                                  फल  \n",
       "1022  एक विश्लेषण अमेरिकी खुफिया के लिए तैयार में चा...  \n",
       "190                                 ये फ्री वाई-फाई है.  \n",
       "8     अधिकांश पूराण विष्णु के नाम से हैं और कुछ ब्रह...  \n",
       "664   अगस्त २००६ मेंवाल स्ट्रीट जर्नल (The Wall Stre...  \n",
       "807   अन्य देशों की भांति भारत के सांस्कृतिक इतिहास ...  "
      ]
     },
     "execution_count": 12,
     "metadata": {},
     "output_type": "execute_result"
    }
   ],
   "source": [
    "data.sample(10)"
   ]
  },
  {
   "cell_type": "code",
   "execution_count": 11,
   "id": "6c37af02-f6b7-4df9-b415-0ed8a50c2adc",
   "metadata": {},
   "outputs": [],
   "source": [
    "#now we need to preprocess the text ---> remove punctuations, contractions, html tags, urls etc. "
   ]
  },
  {
   "cell_type": "code",
   "execution_count": 12,
   "id": "77407441-992c-40f2-b867-6bc4d907ede6",
   "metadata": {},
   "outputs": [],
   "source": [
    "#remove html tags "
   ]
  },
  {
   "cell_type": "code",
   "execution_count": 13,
   "id": "1d332643-2d4e-4a2e-a646-273160f0a76c",
   "metadata": {},
   "outputs": [],
   "source": [
    "def remove_html(text):\n",
    "    if isinstance(text,str):\n",
    "        pattern = re.compile('<.*?>')\n",
    "        return pattern.sub(r'',text)\n",
    "    else:\n",
    "        return text"
   ]
  },
  {
   "cell_type": "code",
   "execution_count": 14,
   "id": "c4d9c4cb-6795-4485-9440-b45f825ab171",
   "metadata": {},
   "outputs": [],
   "source": [
    "# remove url"
   ]
  },
  {
   "cell_type": "code",
   "execution_count": 14,
   "id": "e5a74821-4296-407c-8117-91ca8f747197",
   "metadata": {},
   "outputs": [],
   "source": [
    "def remove_url(text):\n",
    "    if isinstance(text,str):\n",
    "        pattern = re.compile(r'https?://\\S+|www\\.\\S+')\n",
    "        return pattern.sub(r'',text)\n",
    "    else:\n",
    "        return"
   ]
  },
  {
   "cell_type": "code",
   "execution_count": 16,
   "id": "6f939bb0-0f99-4f94-aa9a-d6be2710bea6",
   "metadata": {},
   "outputs": [],
   "source": [
    "# remove alphanumeric characters"
   ]
  },
  {
   "cell_type": "code",
   "execution_count": 15,
   "id": "7dc8eae9-e639-4264-af9c-24733f430c28",
   "metadata": {},
   "outputs": [],
   "source": [
    "def preprocess_text(text, language='english'):\n",
    "    if not isinstance(text, str):\n",
    "        return text\n",
    "    if language == 'english':\n",
    "        pattern = re.compile(r'[^a-zA-Z0-9\\s]')\n",
    "        return pattern.sub(r'', text)\n",
    "    elif language == 'hindi':\n",
    "        pattern = re.compile(r'[^\\u0900-\\u097F\\s]')\n",
    "        return pattern.sub(r'', text)\n",
    "    else:\n",
    "        raise ValueError(\"Unsupported Language, Supported languages are 'english' and 'hindi'\")"
   ]
  },
  {
   "cell_type": "code",
   "execution_count": 18,
   "id": "9ed004cd-a417-4081-a8f9-42cf338255a3",
   "metadata": {},
   "outputs": [],
   "source": [
    "data.rename(columns = {'english ' : 'english'}, inplace = True)"
   ]
  },
  {
   "cell_type": "code",
   "execution_count": 19,
   "id": "d52d34f0-a112-4125-a7c9-ab0e07ed0831",
   "metadata": {},
   "outputs": [
    {
     "data": {
      "text/plain": [
       "Index(['english', 'hindi'], dtype='object')"
      ]
     },
     "execution_count": 19,
     "metadata": {},
     "output_type": "execute_result"
    }
   ],
   "source": [
    "data.columns"
   ]
  },
  {
   "cell_type": "code",
   "execution_count": 20,
   "id": "541042a2-8857-4c48-9b70-6ecdfce5226e",
   "metadata": {},
   "outputs": [],
   "source": [
    "data['english'] = data['english'].apply(remove_html)"
   ]
  },
  {
   "cell_type": "code",
   "execution_count": 21,
   "id": "d9fcedee-1427-4a6a-8721-b7a93efca983",
   "metadata": {},
   "outputs": [],
   "source": [
    "data[\"hindi\"] = data[\"hindi\"].apply(remove_html)"
   ]
  },
  {
   "cell_type": "code",
   "execution_count": 22,
   "id": "a258f6de-fb37-41db-b6f7-43045d67b1dc",
   "metadata": {},
   "outputs": [],
   "source": [
    "data['english'] = data['english'].apply(remove_url)\n",
    "data[\"hindi\"] = data[\"hindi\"].apply(remove_url)"
   ]
  },
  {
   "cell_type": "code",
   "execution_count": 23,
   "id": "90257dba-4b35-46c6-9c0d-ad683ea2ed93",
   "metadata": {},
   "outputs": [],
   "source": [
    "data['english'] = data['english'].apply(lambda x: preprocess_text(x, language='english'))\n",
    "data['hindi'] = data['hindi'].apply(lambda x: preprocess_text(x, language='hindi'))"
   ]
  },
  {
   "cell_type": "code",
   "execution_count": 22,
   "id": "3c56bfa7-2353-4a5d-a396-d3cfd02d20cf",
   "metadata": {},
   "outputs": [],
   "source": [
    "# at this stage we don't have any html tags, url tags and alphanumeric characters"
   ]
  },
  {
   "cell_type": "code",
   "execution_count": 23,
   "id": "133903ba-c089-43d4-ab17-d9a77b38ce1b",
   "metadata": {},
   "outputs": [],
   "source": [
    "#now we need to remove punctuations before tokenising the texts "
   ]
  },
  {
   "cell_type": "code",
   "execution_count": 24,
   "id": "d453ca74-d5c9-4e9f-89ad-c42354ec036c",
   "metadata": {},
   "outputs": [],
   "source": [
    "#English punctuations"
   ]
  },
  {
   "cell_type": "code",
   "execution_count": 24,
   "id": "85a67490-27a4-408e-a3eb-1500d33e4151",
   "metadata": {},
   "outputs": [
    {
     "data": {
      "text/plain": [
       "'!\"#$%&\\'()*+,-./:;<=>?@[\\\\]^_`{|}~'"
      ]
     },
     "execution_count": 24,
     "metadata": {},
     "output_type": "execute_result"
    }
   ],
   "source": [
    "string.punctuation"
   ]
  },
  {
   "cell_type": "code",
   "execution_count": 25,
   "id": "92ecf253-203f-4c8e-b5bb-62a5a9569075",
   "metadata": {},
   "outputs": [],
   "source": [
    "def get_hindi_punctuations():\n",
    "    hindi_punctuations = []\n",
    "    for i in range(0x2000, 0x206f + 1):\n",
    "        char = chr(i)\n",
    "        if unicodedata.category(char) == 'Po':\n",
    "            hindi_punctuations.append(char)\n",
    "    return ''.join(hindi_punctuations)"
   ]
  },
  {
   "cell_type": "code",
   "execution_count": 26,
   "id": "dd00e815-12db-44e0-984f-373de5c3652f",
   "metadata": {},
   "outputs": [],
   "source": [
    "hindi_punctuation = get_hindi_punctuations()"
   ]
  },
  {
   "cell_type": "code",
   "execution_count": 27,
   "id": "2134ffb6-af6d-4c15-9b04-1ecec11e03df",
   "metadata": {},
   "outputs": [
    {
     "data": {
      "text/plain": [
       "'‖‗†‡•‣․‥…‧‰‱′″‴‵‶‷‸※‼‽‾⁁⁂⁃⁇⁈⁉⁊⁋⁌⁍⁎⁏⁐⁑⁓⁕⁖⁗⁘⁙⁚⁛⁜⁝⁞'"
      ]
     },
     "execution_count": 27,
     "metadata": {},
     "output_type": "execute_result"
    }
   ],
   "source": [
    "hindi_punctuation"
   ]
  },
  {
   "cell_type": "code",
   "execution_count": 28,
   "id": "10a1dc0d-3478-46a9-8bf7-deb5e0fe7611",
   "metadata": {},
   "outputs": [],
   "source": [
    "def remove_punctuation(text, language = 'english'):\n",
    "    if language == 'english':\n",
    "        exclude_english = set(string.punctuation)\n",
    "        return ''.join(char for char in text if char not in exclude_english)\n",
    "    elif language == 'hindi':\n",
    "        return ''.join(char for char in text if char not in hindi_punctuation)\n",
    "    \n",
    "    else:\n",
    "        raise ValueError(\"Unsupported Language, Supported languages are 'english' and 'hindi'\")"
   ]
  },
  {
   "cell_type": "code",
   "execution_count": 29,
   "id": "bf4e4c38-90ed-40a1-bd3d-a056c6e261b7",
   "metadata": {},
   "outputs": [],
   "source": [
    "data['english'] = data['english'].apply(lambda x: remove_punctuation(x,language = 'english'))\n",
    "data['hindi'] = data['hindi'].apply(lambda x: remove_punctuation(x,language = 'hindi'))"
   ]
  },
  {
   "cell_type": "code",
   "execution_count": 30,
   "id": "73eee57a-abfd-48fd-a2da-febe0128d376",
   "metadata": {},
   "outputs": [],
   "source": [
    "def expand_contractions(text):\n",
    "    expanded_text = contractions.fix(text)\n",
    "    return expanded_text"
   ]
  },
  {
   "cell_type": "code",
   "execution_count": 31,
   "id": "bd0d82a6-d44e-43d3-9369-83efa6151730",
   "metadata": {},
   "outputs": [],
   "source": [
    "data[\"english\"] = data[\"english\"].apply(expand_contractions)"
   ]
  },
  {
   "cell_type": "code",
   "execution_count": null,
   "id": "867cfdec-dd2b-47af-8afb-845dbbb5efda",
   "metadata": {},
   "outputs": [],
   "source": []
  },
  {
   "cell_type": "code",
   "execution_count": 33,
   "id": "0c46079d-64f8-4940-99f2-ed9aa23a5a3a",
   "metadata": {},
   "outputs": [],
   "source": [
    "# data is now clean and ready to be tokenised"
   ]
  },
  {
   "cell_type": "code",
   "execution_count": 32,
   "id": "8ffc69c1-4d4e-4fcb-9fa3-e509e30285f2",
   "metadata": {},
   "outputs": [],
   "source": [
    "def do_tokenization(text):\n",
    "    token_words = word_tokenize(text)\n",
    "    return token_words"
   ]
  },
  {
   "cell_type": "code",
   "execution_count": 33,
   "id": "5e0f923d-6716-404b-be1d-5edb41fc6143",
   "metadata": {},
   "outputs": [],
   "source": [
    "data[\"english\"] = data[\"english\"].apply(do_tokenization)\n",
    "data[\"hindi\"] = data[\"hindi\"].apply(do_tokenization)"
   ]
  },
  {
   "cell_type": "code",
   "execution_count": 35,
   "id": "c7e5016f-de3b-4f69-b15a-c82f47002384",
   "metadata": {},
   "outputs": [
    {
     "data": {
      "text/plain": [
       "['Hindi', 'Poet']"
      ]
     },
     "execution_count": 35,
     "metadata": {},
     "output_type": "execute_result"
    }
   ],
   "source": [
    "data['english'][500]"
   ]
  },
  {
   "cell_type": "code",
   "execution_count": 36,
   "id": "fdde273d-4fad-45d3-a52d-17718b3ab7c5",
   "metadata": {},
   "outputs": [
    {
     "data": {
      "text/plain": [
       "['हिन्दी', 'कवि']"
      ]
     },
     "execution_count": 36,
     "metadata": {},
     "output_type": "execute_result"
    }
   ],
   "source": [
    "data[\"hindi\"][500]"
   ]
  },
  {
   "cell_type": "code",
   "execution_count": null,
   "id": "fa665889-4b50-47ad-af70-cd029d6c684b",
   "metadata": {},
   "outputs": [],
   "source": []
  },
  {
   "cell_type": "code",
   "execution_count": 38,
   "id": "2124cf45-fc7b-4c13-844c-66352676f2c3",
   "metadata": {},
   "outputs": [],
   "source": [
    "# now amongst these we need to remove the stop words"
   ]
  },
  {
   "cell_type": "code",
   "execution_count": 37,
   "id": "1b1bfb87-a224-412b-bf0a-d92aedbabfcf",
   "metadata": {},
   "outputs": [
    {
     "data": {
      "text/plain": [
       "179"
      ]
     },
     "execution_count": 37,
     "metadata": {},
     "output_type": "execute_result"
    }
   ],
   "source": [
    "len(stopwords.words(\"english\"))"
   ]
  },
  {
   "cell_type": "code",
   "execution_count": 38,
   "id": "54a1e816-06cf-4b22-82e0-caecd7fe669b",
   "metadata": {},
   "outputs": [
    {
     "name": "stderr",
     "output_type": "stream",
     "text": [
      "[nltk_data] Downloading package indian to C:\\Users\\Diya\n",
      "[nltk_data]     Sivaprasad\\AppData\\Roaming\\nltk_data...\n",
      "[nltk_data]   Package indian is already up-to-date!\n"
     ]
    },
    {
     "data": {
      "text/plain": [
       "True"
      ]
     },
     "execution_count": 38,
     "metadata": {},
     "output_type": "execute_result"
    }
   ],
   "source": [
    "nltk.download(\"indian\")"
   ]
  },
  {
   "cell_type": "code",
   "execution_count": 39,
   "id": "65422a9a-1cfe-4ebc-add5-175f64b98b1d",
   "metadata": {},
   "outputs": [
    {
     "data": {
      "text/plain": [
       "9408"
      ]
     },
     "execution_count": 39,
     "metadata": {},
     "output_type": "execute_result"
    }
   ],
   "source": [
    "len(nltk.corpus.indian.words('hindi.pos'))"
   ]
  },
  {
   "cell_type": "code",
   "execution_count": 42,
   "id": "0ff1ea10-b449-4a34-b117-a9c156af3cb2",
   "metadata": {},
   "outputs": [],
   "source": [
    "# collecting the stopwords"
   ]
  },
  {
   "cell_type": "code",
   "execution_count": 40,
   "id": "4f8a9dc8-6e96-482d-a96e-745ab305965d",
   "metadata": {},
   "outputs": [],
   "source": [
    "stop_words_english = set(stopwords.words('english'))\n",
    "stop_words_hindi = set(nltk.corpus.indian.words('hindi.pos'))"
   ]
  },
  {
   "cell_type": "code",
   "execution_count": 41,
   "id": "e863e775-20b1-4f26-a3a6-d3121c725623",
   "metadata": {},
   "outputs": [],
   "source": [
    "# function to remove stopwords"
   ]
  },
  {
   "cell_type": "code",
   "execution_count": 42,
   "id": "1ba3c711-9209-4073-be85-cc30f7aa465c",
   "metadata": {},
   "outputs": [],
   "source": [
    "def remove_stopwords(text,language = 'english'):\n",
    "    if language == 'english':\n",
    "        filtered_words_english = [word for word in text if word.lower() not in stop_words_english]\n",
    "        return ' '.join(filtered_words_english)\n",
    "    elif language == 'hindi':\n",
    "        filterd_words_hindi = [word for word in text if word not in stop_words_hindi]\n",
    "        return ' '.join(filterd_words_hindi)\n",
    "    else:\n",
    "        return ValueError(\"Unsupported Language, Supported languages are 'english' and 'hindi'\")"
   ]
  },
  {
   "cell_type": "code",
   "execution_count": 43,
   "id": "79600d05-c22a-42d5-9004-4fb56f194f94",
   "metadata": {},
   "outputs": [],
   "source": [
    "data['english'] = data['english'].apply(lambda x :remove_stopwords(x,language = 'english'))\n",
    "data['hindi'] = data['hindi'].apply(lambda x :remove_stopwords(x,language = 'hindi'))"
   ]
  },
  {
   "cell_type": "code",
   "execution_count": 44,
   "id": "de43c7f7-b229-4f0d-b8dd-1ddfd55c4fdc",
   "metadata": {},
   "outputs": [
    {
     "data": {
      "text/html": [
       "<div>\n",
       "<style scoped>\n",
       "    .dataframe tbody tr th:only-of-type {\n",
       "        vertical-align: middle;\n",
       "    }\n",
       "\n",
       "    .dataframe tbody tr th {\n",
       "        vertical-align: top;\n",
       "    }\n",
       "\n",
       "    .dataframe thead th {\n",
       "        text-align: right;\n",
       "    }\n",
       "</style>\n",
       "<table border=\"1\" class=\"dataframe\">\n",
       "  <thead>\n",
       "    <tr style=\"text-align: right;\">\n",
       "      <th></th>\n",
       "      <th>english</th>\n",
       "      <th>hindi</th>\n",
       "    </tr>\n",
       "  </thead>\n",
       "  <tbody>\n",
       "    <tr>\n",
       "      <th>22</th>\n",
       "      <td>Since already held Legislative Assembly power ...</td>\n",
       "      <td>विधान मानहानि याचिकादाता विरुद्ध शक्ति अनुच्छे...</td>\n",
       "    </tr>\n",
       "    <tr>\n",
       "      <th>107</th>\n",
       "      <td>Delhi visit made memorable Gandhi generous lov...</td>\n",
       "      <td>उदार मनोभावों रवीन्द्रनाथ स्वास्थ्य व्यग्रता न...</td>\n",
       "    </tr>\n",
       "    <tr>\n",
       "      <th>1189</th>\n",
       "      <td>sometimes people outside UK imagine</td>\n",
       "      <td>क्योकि</td>\n",
       "    </tr>\n",
       "    <tr>\n",
       "      <th>137</th>\n",
       "      <td>words matchfixer scratched bonnet Mitsubishi L...</td>\n",
       "      <td>मित्सुबिशी लंसर बोनट खुरचकर फिक्सर शद गाड़ी पे...</td>\n",
       "    </tr>\n",
       "    <tr>\n",
       "      <th>852</th>\n",
       "      <td>Somebody care achievements</td>\n",
       "      <td>आपकी उपलब्धियों परवाह</td>\n",
       "    </tr>\n",
       "  </tbody>\n",
       "</table>\n",
       "</div>"
      ],
      "text/plain": [
       "                                                english  \\\n",
       "22    Since already held Legislative Assembly power ...   \n",
       "107   Delhi visit made memorable Gandhi generous lov...   \n",
       "1189                sometimes people outside UK imagine   \n",
       "137   words matchfixer scratched bonnet Mitsubishi L...   \n",
       "852                          Somebody care achievements   \n",
       "\n",
       "                                                  hindi  \n",
       "22    विधान मानहानि याचिकादाता विरुद्ध शक्ति अनुच्छे...  \n",
       "107   उदार मनोभावों रवीन्द्रनाथ स्वास्थ्य व्यग्रता न...  \n",
       "1189                                             क्योकि  \n",
       "137   मित्सुबिशी लंसर बोनट खुरचकर फिक्सर शद गाड़ी पे...  \n",
       "852                               आपकी उपलब्धियों परवाह  "
      ]
     },
     "execution_count": 44,
     "metadata": {},
     "output_type": "execute_result"
    }
   ],
   "source": [
    "data.sample(5)"
   ]
  },
  {
   "cell_type": "code",
   "execution_count": 48,
   "id": "917613e4-104f-47a7-b277-40403490b19a",
   "metadata": {},
   "outputs": [],
   "source": [
    "# now we need to convert words into their root forms ---> via the process of stemming"
   ]
  },
  {
   "cell_type": "code",
   "execution_count": 45,
   "id": "3d8fff7a-84a4-47d0-9f37-6f65a4d67e6b",
   "metadata": {},
   "outputs": [],
   "source": [
    "def stemming(text):\n",
    "    ps = PorterStemmer()\n",
    "    words = text.split()\n",
    "    return [ps.stem(word) for word in words]"
   ]
  },
  {
   "cell_type": "code",
   "execution_count": 46,
   "id": "42a1b22f-c8f7-435a-8387-9c5a0dc2257c",
   "metadata": {},
   "outputs": [],
   "source": [
    "data[\"english\"] = data[\"english\"].apply(stemming)\n",
    "data[\"hindi\"] = data[\"hindi\"].apply(stemming)"
   ]
  },
  {
   "cell_type": "code",
   "execution_count": 47,
   "id": "cc62b8b7-4438-4f43-8909-7d1345a69b83",
   "metadata": {},
   "outputs": [
    {
     "data": {
      "text/html": [
       "<div>\n",
       "<style scoped>\n",
       "    .dataframe tbody tr th:only-of-type {\n",
       "        vertical-align: middle;\n",
       "    }\n",
       "\n",
       "    .dataframe tbody tr th {\n",
       "        vertical-align: top;\n",
       "    }\n",
       "\n",
       "    .dataframe thead th {\n",
       "        text-align: right;\n",
       "    }\n",
       "</style>\n",
       "<table border=\"1\" class=\"dataframe\">\n",
       "  <thead>\n",
       "    <tr style=\"text-align: right;\">\n",
       "      <th></th>\n",
       "      <th>english</th>\n",
       "      <th>hindi</th>\n",
       "    </tr>\n",
       "  </thead>\n",
       "  <tbody>\n",
       "    <tr>\n",
       "      <th>141</th>\n",
       "      <td>[student, work]</td>\n",
       "      <td>[वहाँ, छात्र]</td>\n",
       "    </tr>\n",
       "    <tr>\n",
       "      <th>81</th>\n",
       "      <td>[troubl, kid]</td>\n",
       "      <td>[बच्चा]</td>\n",
       "    </tr>\n",
       "    <tr>\n",
       "      <th>923</th>\n",
       "      <td>[difficulti, way, modernis, mani, lack, fund, ...</td>\n",
       "      <td>[आधुनिकीकरण, बाधाएं, विशेषकर, विदेशी, मुद्रा, ...</td>\n",
       "    </tr>\n",
       "    <tr>\n",
       "      <th>508</th>\n",
       "      <td>[agra, aligarh, ayodhya, bareilli, meerut, var...</td>\n",
       "      <td>[आगरा, अलीगढ, अयोध्या, बरेली, मेरठ, बनारस, गोर...</td>\n",
       "    </tr>\n",
       "    <tr>\n",
       "      <th>112</th>\n",
       "      <td>[1938, particularli, sinc, begin, 1939, bitter...</td>\n",
       "      <td>[सन्, खासकर, दक्षिणपंथी, कांग्रेसियों, सुभाष, ...</td>\n",
       "    </tr>\n",
       "  </tbody>\n",
       "</table>\n",
       "</div>"
      ],
      "text/plain": [
       "                                               english  \\\n",
       "141                                    [student, work]   \n",
       "81                                       [troubl, kid]   \n",
       "923  [difficulti, way, modernis, mani, lack, fund, ...   \n",
       "508  [agra, aligarh, ayodhya, bareilli, meerut, var...   \n",
       "112  [1938, particularli, sinc, begin, 1939, bitter...   \n",
       "\n",
       "                                                 hindi  \n",
       "141                                      [वहाँ, छात्र]  \n",
       "81                                             [बच्चा]  \n",
       "923  [आधुनिकीकरण, बाधाएं, विशेषकर, विदेशी, मुद्रा, ...  \n",
       "508  [आगरा, अलीगढ, अयोध्या, बरेली, मेरठ, बनारस, गोर...  \n",
       "112  [सन्, खासकर, दक्षिणपंथी, कांग्रेसियों, सुभाष, ...  "
      ]
     },
     "execution_count": 47,
     "metadata": {},
     "output_type": "execute_result"
    }
   ],
   "source": [
    "data.sample(5)"
   ]
  },
  {
   "cell_type": "code",
   "execution_count": 52,
   "id": "a292bab7-7773-4a87-859e-3fdc77330d84",
   "metadata": {},
   "outputs": [],
   "source": [
    "# we are done with the data pre-processing "
   ]
  },
  {
   "cell_type": "markdown",
   "id": "bde9cb29-13f5-4932-a863-18005d55052f",
   "metadata": {},
   "source": [
    "### Tokenisation"
   ]
  },
  {
   "cell_type": "code",
   "execution_count": 48,
   "id": "daa3c552-cd62-4bb9-b393-f8e638191f9f",
   "metadata": {},
   "outputs": [],
   "source": [
    "tokenizer_english = Tokenizer()"
   ]
  },
  {
   "cell_type": "code",
   "execution_count": 49,
   "id": "cc9e6cd9-7fd1-48bd-8261-fba7e31b38c4",
   "metadata": {},
   "outputs": [],
   "source": [
    "tokenizer_english.fit_on_texts(data[\"english\"])"
   ]
  },
  {
   "cell_type": "code",
   "execution_count": 50,
   "id": "bd8d7e29-831a-431b-b657-5306bc901e5e",
   "metadata": {},
   "outputs": [],
   "source": [
    "tokenizer_hindi = Tokenizer()"
   ]
  },
  {
   "cell_type": "code",
   "execution_count": 51,
   "id": "400a9287-de17-4282-b732-d29338a6e732",
   "metadata": {},
   "outputs": [],
   "source": [
    "tokenizer_hindi.fit_on_texts(data[\"hindi\"])"
   ]
  },
  {
   "cell_type": "code",
   "execution_count": 52,
   "id": "a7393930-9621-4dae-8a64-9af087decb79",
   "metadata": {},
   "outputs": [],
   "source": [
    "tokenizer_hindi.word_index['<start>'] = len(tokenizer_hindi.word_index) + 1\n",
    "tokenizer_hindi.word_index['<end>'] = len(tokenizer_hindi.word_index) + 1"
   ]
  },
  {
   "cell_type": "code",
   "execution_count": 53,
   "id": "7c6506ea-50cb-46bb-887b-4f5594ea1eff",
   "metadata": {},
   "outputs": [],
   "source": [
    "def add_special_tokens(sequences, start_token='<start>', end_token='<end>'):\n",
    "    sequences_with_special_tokens = []\n",
    "    for sequence in sequences:\n",
    "        sequence_with_special_tokens = [start_token] + sequence + [end_token]\n",
    "        sequences_with_special_tokens.append(sequence_with_special_tokens)\n",
    "    return sequences_with_special_tokens"
   ]
  },
  {
   "cell_type": "code",
   "execution_count": 54,
   "id": "903e8aea-42cd-467c-a6b0-268c4ee60df0",
   "metadata": {},
   "outputs": [],
   "source": [
    "data['hindi'] = add_special_tokens(data['hindi'])"
   ]
  },
  {
   "cell_type": "code",
   "execution_count": 55,
   "id": "5ebc20d0-3d6f-4494-a2b4-943c52032487",
   "metadata": {},
   "outputs": [
    {
     "data": {
      "text/html": [
       "<div>\n",
       "<style scoped>\n",
       "    .dataframe tbody tr th:only-of-type {\n",
       "        vertical-align: middle;\n",
       "    }\n",
       "\n",
       "    .dataframe tbody tr th {\n",
       "        vertical-align: top;\n",
       "    }\n",
       "\n",
       "    .dataframe thead th {\n",
       "        text-align: right;\n",
       "    }\n",
       "</style>\n",
       "<table border=\"1\" class=\"dataframe\">\n",
       "  <thead>\n",
       "    <tr style=\"text-align: right;\">\n",
       "      <th></th>\n",
       "      <th>english</th>\n",
       "      <th>hindi</th>\n",
       "    </tr>\n",
       "  </thead>\n",
       "  <tbody>\n",
       "    <tr>\n",
       "      <th>94</th>\n",
       "      <td>[5, type, doubt, least, 368, doubt, clear, nee...</td>\n",
       "      <td>[&lt;start&gt;, संविधान, मे, संशोधन, शक्ति, अनु, अनु...</td>\n",
       "    </tr>\n",
       "    <tr>\n",
       "      <th>131</th>\n",
       "      <td>[pistol, use, kill, jackson, strenuous, conten...</td>\n",
       "      <td>[&lt;start&gt;, पिस्तौल, संबंध, जिससे, जैक्सन, हत्या...</td>\n",
       "    </tr>\n",
       "    <tr>\n",
       "      <th>585</th>\n",
       "      <td>[known, muslim, catastroph, day]</td>\n",
       "      <td>[&lt;start&gt;, मुसलमान, प्रलय, हैं।, &lt;end&gt;]</td>\n",
       "    </tr>\n",
       "    <tr>\n",
       "      <th>23</th>\n",
       "      <td>[mustach, grow, abil]</td>\n",
       "      <td>[&lt;start&gt;, अनडरएस्टीमेट, &lt;end&gt;]</td>\n",
       "    </tr>\n",
       "    <tr>\n",
       "      <th>430</th>\n",
       "      <td>[instead, prevent, delist, mnc, need, introspe...</td>\n",
       "      <td>[&lt;start&gt;, भराष्ट्रीय, कंपनियों, शेयर, बाजार, ह...</td>\n",
       "    </tr>\n",
       "    <tr>\n",
       "      <th>1149</th>\n",
       "      <td>[allow, suffici, rest]</td>\n",
       "      <td>[&lt;start&gt;, पर्याप्त, विश्राम, &lt;end&gt;]</td>\n",
       "    </tr>\n",
       "    <tr>\n",
       "      <th>989</th>\n",
       "      <td>[peopl, start, contribut, idea]</td>\n",
       "      <td>[&lt;start&gt;, विचारों, प्रारंभ, &lt;end&gt;]</td>\n",
       "    </tr>\n",
       "    <tr>\n",
       "      <th>206</th>\n",
       "      <td>[select, staff, ats107, second, flight, 2000]</td>\n",
       "      <td>[&lt;start&gt;, एसटीएस१०७, उड़ान, चुना, गया।, &lt;end&gt;]</td>\n",
       "    </tr>\n",
       "    <tr>\n",
       "      <th>725</th>\n",
       "      <td>[mahoba, district]</td>\n",
       "      <td>[&lt;start&gt;, महोबा, जिला, &lt;end&gt;]</td>\n",
       "    </tr>\n",
       "    <tr>\n",
       "      <th>773</th>\n",
       "      <td>[januari, 2005, south, africa, england]</td>\n",
       "      <td>[&lt;start&gt;, &lt;end&gt;]</td>\n",
       "    </tr>\n",
       "  </tbody>\n",
       "</table>\n",
       "</div>"
      ],
      "text/plain": [
       "                                                english  \\\n",
       "94    [5, type, doubt, least, 368, doubt, clear, nee...   \n",
       "131   [pistol, use, kill, jackson, strenuous, conten...   \n",
       "585                    [known, muslim, catastroph, day]   \n",
       "23                                [mustach, grow, abil]   \n",
       "430   [instead, prevent, delist, mnc, need, introspe...   \n",
       "1149                             [allow, suffici, rest]   \n",
       "989                     [peopl, start, contribut, idea]   \n",
       "206       [select, staff, ats107, second, flight, 2000]   \n",
       "725                                  [mahoba, district]   \n",
       "773             [januari, 2005, south, africa, england]   \n",
       "\n",
       "                                                  hindi  \n",
       "94    [<start>, संविधान, मे, संशोधन, शक्ति, अनु, अनु...  \n",
       "131   [<start>, पिस्तौल, संबंध, जिससे, जैक्सन, हत्या...  \n",
       "585              [<start>, मुसलमान, प्रलय, हैं।, <end>]  \n",
       "23                       [<start>, अनडरएस्टीमेट, <end>]  \n",
       "430   [<start>, भराष्ट्रीय, कंपनियों, शेयर, बाजार, ह...  \n",
       "1149                [<start>, पर्याप्त, विश्राम, <end>]  \n",
       "989                  [<start>, विचारों, प्रारंभ, <end>]  \n",
       "206      [<start>, एसटीएस१०७, उड़ान, चुना, गया।, <end>]  \n",
       "725                       [<start>, महोबा, जिला, <end>]  \n",
       "773                                    [<start>, <end>]  "
      ]
     },
     "execution_count": 55,
     "metadata": {},
     "output_type": "execute_result"
    }
   ],
   "source": [
    "data.sample(10)"
   ]
  },
  {
   "cell_type": "code",
   "execution_count": 56,
   "id": "a01a96fc-c228-43f8-8388-d0da5338f391",
   "metadata": {},
   "outputs": [],
   "source": [
    "data[\"english\"] = tokenizer_english.texts_to_sequences(data[\"english\"])\n",
    "data[\"hindi\"] = tokenizer_hindi.texts_to_sequences(data[\"hindi\"])"
   ]
  },
  {
   "cell_type": "code",
   "execution_count": 57,
   "id": "267fc666-3d02-4214-8ab9-5d1c73873524",
   "metadata": {},
   "outputs": [
    {
     "data": {
      "text/html": [
       "<div>\n",
       "<style scoped>\n",
       "    .dataframe tbody tr th:only-of-type {\n",
       "        vertical-align: middle;\n",
       "    }\n",
       "\n",
       "    .dataframe tbody tr th {\n",
       "        vertical-align: top;\n",
       "    }\n",
       "\n",
       "    .dataframe thead th {\n",
       "        text-align: right;\n",
       "    }\n",
       "</style>\n",
       "<table border=\"1\" class=\"dataframe\">\n",
       "  <thead>\n",
       "    <tr style=\"text-align: right;\">\n",
       "      <th></th>\n",
       "      <th>english</th>\n",
       "      <th>hindi</th>\n",
       "    </tr>\n",
       "  </thead>\n",
       "  <tbody>\n",
       "    <tr>\n",
       "      <th>565</th>\n",
       "      <td>[2836, 2837]</td>\n",
       "      <td>[4582, 2897, 2898, 4583]</td>\n",
       "    </tr>\n",
       "    <tr>\n",
       "      <th>962</th>\n",
       "      <td>[907, 70, 3562, 525, 943]</td>\n",
       "      <td>[4582, 219, 3913, 1117, 3914, 4583]</td>\n",
       "    </tr>\n",
       "    <tr>\n",
       "      <th>296</th>\n",
       "      <td>[1238, 503, 2253, 837]</td>\n",
       "      <td>[4582, 814, 2072, 2073, 2074, 4583]</td>\n",
       "    </tr>\n",
       "    <tr>\n",
       "      <th>797</th>\n",
       "      <td>[251, 1117, 7, 625, 321]</td>\n",
       "      <td>[4582, 3481, 3482, 4583]</td>\n",
       "    </tr>\n",
       "    <tr>\n",
       "      <th>1140</th>\n",
       "      <td>[540, 664, 233, 3875, 553, 1503, 3876]</td>\n",
       "      <td>[4582, 912, 4369, 4370, 481, 4583]</td>\n",
       "    </tr>\n",
       "    <tr>\n",
       "      <th>880</th>\n",
       "      <td>[85, 69, 3404, 3405, 3406, 68, 203, 622, 280]</td>\n",
       "      <td>[4582, 26, 3710, 3711, 3712, 3713, 12, 1020, 1...</td>\n",
       "    </tr>\n",
       "    <tr>\n",
       "      <th>329</th>\n",
       "      <td>[343, 355, 140, 2310, 130, 277, 71, 2311, 2, 1...</td>\n",
       "      <td>[4582, 425, 2162, 111, 43, 470, 43, 835, 2163,...</td>\n",
       "    </tr>\n",
       "    <tr>\n",
       "      <th>205</th>\n",
       "      <td>[445, 2060, 795, 1167, 245, 2061, 128, 2062]</td>\n",
       "      <td>[4582, 1809, 1810, 1811, 4583]</td>\n",
       "    </tr>\n",
       "    <tr>\n",
       "      <th>95</th>\n",
       "      <td>[1775, 8, 541, 722, 1, 91, 179, 2, 723, 185, 1...</td>\n",
       "      <td>[4582, 1417, 630, 15, 1418, 75, 4583]</td>\n",
       "    </tr>\n",
       "    <tr>\n",
       "      <th>1029</th>\n",
       "      <td>[251, 154, 13, 3677]</td>\n",
       "      <td>[4582, 4091, 4092, 4583]</td>\n",
       "    </tr>\n",
       "  </tbody>\n",
       "</table>\n",
       "</div>"
      ],
      "text/plain": [
       "                                                english  \\\n",
       "565                                        [2836, 2837]   \n",
       "962                           [907, 70, 3562, 525, 943]   \n",
       "296                              [1238, 503, 2253, 837]   \n",
       "797                            [251, 1117, 7, 625, 321]   \n",
       "1140             [540, 664, 233, 3875, 553, 1503, 3876]   \n",
       "880       [85, 69, 3404, 3405, 3406, 68, 203, 622, 280]   \n",
       "329   [343, 355, 140, 2310, 130, 277, 71, 2311, 2, 1...   \n",
       "205        [445, 2060, 795, 1167, 245, 2061, 128, 2062]   \n",
       "95    [1775, 8, 541, 722, 1, 91, 179, 2, 723, 185, 1...   \n",
       "1029                               [251, 154, 13, 3677]   \n",
       "\n",
       "                                                  hindi  \n",
       "565                            [4582, 2897, 2898, 4583]  \n",
       "962                 [4582, 219, 3913, 1117, 3914, 4583]  \n",
       "296                 [4582, 814, 2072, 2073, 2074, 4583]  \n",
       "797                            [4582, 3481, 3482, 4583]  \n",
       "1140                 [4582, 912, 4369, 4370, 481, 4583]  \n",
       "880   [4582, 26, 3710, 3711, 3712, 3713, 12, 1020, 1...  \n",
       "329   [4582, 425, 2162, 111, 43, 470, 43, 835, 2163,...  \n",
       "205                      [4582, 1809, 1810, 1811, 4583]  \n",
       "95                [4582, 1417, 630, 15, 1418, 75, 4583]  \n",
       "1029                           [4582, 4091, 4092, 4583]  "
      ]
     },
     "execution_count": 57,
     "metadata": {},
     "output_type": "execute_result"
    }
   ],
   "source": [
    "data.sample(10)"
   ]
  },
  {
   "cell_type": "code",
   "execution_count": 64,
   "id": "1888502a-b9df-41f4-bcd5-9a581f34ccb3",
   "metadata": {},
   "outputs": [],
   "source": [
    "#now we can go ahead with the train and test split part"
   ]
  },
  {
   "cell_type": "markdown",
   "id": "9a51ffd9-f630-4d0e-b6c3-fa46228a65f2",
   "metadata": {},
   "source": [
    "### Model Training "
   ]
  },
  {
   "cell_type": "code",
   "execution_count": 60,
   "id": "dc5bcc64-6a73-4bcc-8155-73e3d2e2a1fb",
   "metadata": {},
   "outputs": [],
   "source": [
    "x_train, x_test, y_train, y_test = train_test_split(data[\"english\"], data[\"hindi\"], test_size = 0.2, random_state = 42)"
   ]
  },
  {
   "cell_type": "code",
   "execution_count": 61,
   "id": "9664ba00-2020-4b74-82e9-d7b33f0323fb",
   "metadata": {},
   "outputs": [
    {
     "name": "stdout",
     "output_type": "stream",
     "text": [
      "964\n",
      "242\n"
     ]
    }
   ],
   "source": [
    "print(len(x_train))\n",
    "print(len(x_test))"
   ]
  },
  {
   "cell_type": "code",
   "execution_count": 62,
   "id": "65d50182-3204-479e-8892-2664e2cea4f1",
   "metadata": {},
   "outputs": [
    {
     "name": "stdout",
     "output_type": "stream",
     "text": [
      "964\n",
      "242\n"
     ]
    }
   ],
   "source": [
    "print(len(y_train))\n",
    "print(len(y_test))"
   ]
  },
  {
   "cell_type": "code",
   "execution_count": 112,
   "id": "c43206cf-411f-4df9-95ee-c73953364a95",
   "metadata": {},
   "outputs": [],
   "source": [
    "# now we add padding to the data "
   ]
  },
  {
   "cell_type": "code",
   "execution_count": 63,
   "id": "83771363-dc66-4cd2-92e4-909a06b5f744",
   "metadata": {},
   "outputs": [],
   "source": [
    "def max_sequence_length(text):\n",
    "    combined_sequences = text\n",
    "    max_length_combined = max(len(sequence) for sequence in combined_sequences)\n",
    "    return max_length_combined"
   ]
  },
  {
   "cell_type": "code",
   "execution_count": 64,
   "id": "61ef6065-f194-4fe7-9e1c-7a2bde9b3a6c",
   "metadata": {},
   "outputs": [],
   "source": [
    "max_length_x = max_sequence_length(data[\"english\"])\n",
    "max_length_y = max_sequence_length(data[\"hindi\"])"
   ]
  },
  {
   "cell_type": "code",
   "execution_count": 65,
   "id": "f0d71e9d-7902-4d08-bd1a-377d4ee1cc5e",
   "metadata": {},
   "outputs": [
    {
     "data": {
      "text/plain": [
       "124"
      ]
     },
     "execution_count": 65,
     "metadata": {},
     "output_type": "execute_result"
    }
   ],
   "source": [
    "max_length_x"
   ]
  },
  {
   "cell_type": "code",
   "execution_count": 66,
   "id": "a127919a-99cd-4b8c-9fce-b07569d6a33c",
   "metadata": {},
   "outputs": [
    {
     "data": {
      "text/plain": [
       "92"
      ]
     },
     "execution_count": 66,
     "metadata": {},
     "output_type": "execute_result"
    }
   ],
   "source": [
    "max_length_y"
   ]
  },
  {
   "cell_type": "code",
   "execution_count": 67,
   "id": "0e1d180d-0425-4823-ba97-7e7f19d3e0cd",
   "metadata": {},
   "outputs": [
    {
     "data": {
      "text/plain": [
       "(964,)"
      ]
     },
     "execution_count": 67,
     "metadata": {},
     "output_type": "execute_result"
    }
   ],
   "source": [
    "x_train.shape"
   ]
  },
  {
   "cell_type": "code",
   "execution_count": 68,
   "id": "93cc61d7-2b3b-4272-892b-6ddfb4eb2440",
   "metadata": {},
   "outputs": [],
   "source": [
    "x_train_new = pad_sequences(x_train, maxlen = max_length_x, padding = 'post')\n",
    "y_train_new = pad_sequences(y_train, maxlen = max_length_y, padding = 'post')\n",
    "x_test_new = pad_sequences(x_test, maxlen = max_length_x, padding = 'post')\n",
    "y_test_new = pad_sequences(y_test, maxlen = max_length_y, padding = 'post')"
   ]
  },
  {
   "cell_type": "code",
   "execution_count": null,
   "id": "d94e07a3-7ae6-4451-acf3-bb048cc8a474",
   "metadata": {},
   "outputs": [],
   "source": []
  },
  {
   "cell_type": "code",
   "execution_count": 69,
   "id": "33dd5d5e-d627-4350-a2f2-d5b3c0ac4b8e",
   "metadata": {},
   "outputs": [],
   "source": [
    "#establishing the model "
   ]
  },
  {
   "cell_type": "code",
   "execution_count": 70,
   "id": "4a570aff-9afe-4c3f-8437-23b83d59791c",
   "metadata": {},
   "outputs": [],
   "source": [
    "def create_model(vocab_size_input, vocab_size_output, max_seq_length_input, max_seq_length_output, embedding_dim, hidden_units):\n",
    "    ## encoder\n",
    "    encoder_inputs = Input(shape=(max_seq_length_input,))\n",
    "    encoder_embedding = Embedding(input_dim=vocab_size_input, output_dim=embedding_dim)(encoder_inputs)\n",
    "    encoder_lstm = LSTM(hidden_units, return_state=True)\n",
    "    encoder_outputs, state_h, state_c = encoder_lstm(encoder_embedding)\n",
    "    encoder_states = [state_h, state_c]\n",
    "    \n",
    "    ## decoder\n",
    "    decoder_inputs = Input(shape=(max_seq_length_output,))\n",
    "    decoder_embedding = Embedding(input_dim=vocab_size_output, output_dim=embedding_dim)(decoder_inputs)\n",
    "    decoder_lstm = LSTM(hidden_units, return_sequences=True, return_state=True)\n",
    "    decoder_outputs, _, _ = decoder_lstm(decoder_embedding, initial_state=encoder_states)\n",
    "    decoder_dense = Dense(vocab_size_output, activation='softmax')\n",
    "    decoder_outputs = decoder_dense(decoder_outputs)\n",
    "    \n",
    "    ## model\n",
    "    model = Model([encoder_inputs, decoder_inputs], decoder_outputs)\n",
    "    print(model.summary())\n",
    "    return model"
   ]
  },
  {
   "cell_type": "code",
   "execution_count": 71,
   "id": "fb2876de-6ef6-40a6-9df6-6fd01234ce26",
   "metadata": {},
   "outputs": [],
   "source": [
    "vocab_size_input = len(tokenizer_english.word_index) + 1\n",
    "vocab_size_output = len(tokenizer_hindi.word_index) + 1"
   ]
  },
  {
   "cell_type": "code",
   "execution_count": 72,
   "id": "0588a177-0f49-4e50-b55b-95029e22791e",
   "metadata": {},
   "outputs": [
    {
     "data": {
      "text/plain": [
       "4584"
      ]
     },
     "execution_count": 72,
     "metadata": {},
     "output_type": "execute_result"
    }
   ],
   "source": [
    "vocab_size_output"
   ]
  },
  {
   "cell_type": "code",
   "execution_count": 73,
   "id": "17022bbd-ccdc-4ba6-be4b-ced614a3cef7",
   "metadata": {},
   "outputs": [
    {
     "data": {
      "text/plain": [
       "4044"
      ]
     },
     "execution_count": 73,
     "metadata": {},
     "output_type": "execute_result"
    }
   ],
   "source": [
    "vocab_size_input"
   ]
  },
  {
   "cell_type": "code",
   "execution_count": 74,
   "id": "7783bbb0-ec04-4324-968d-c6a3c7411c1b",
   "metadata": {},
   "outputs": [],
   "source": [
    "max_seq_length_input = max_length_x\n",
    "max_seq_length_output = max_length_y - 1"
   ]
  },
  {
   "cell_type": "code",
   "execution_count": 75,
   "id": "285b169a-1dcc-4120-8716-fbeb43f826da",
   "metadata": {},
   "outputs": [],
   "source": [
    "# defining other hyper-parameters"
   ]
  },
  {
   "cell_type": "code",
   "execution_count": 76,
   "id": "42ed384e-3bd7-4748-a75e-7fb9793267a4",
   "metadata": {},
   "outputs": [],
   "source": [
    "embedding_dim = 100\n",
    "hidden_units = 256"
   ]
  },
  {
   "cell_type": "code",
   "execution_count": 77,
   "id": "4c1332f2-191f-4aa6-85a6-ee6704985e5e",
   "metadata": {},
   "outputs": [
    {
     "data": {
      "text/html": [
       "<pre style=\"white-space:pre;overflow-x:auto;line-height:normal;font-family:Menlo,'DejaVu Sans Mono',consolas,'Courier New',monospace\"><span style=\"font-weight: bold\">Model: \"functional_1\"</span>\n",
       "</pre>\n"
      ],
      "text/plain": [
       "\u001b[1mModel: \"functional_1\"\u001b[0m\n"
      ]
     },
     "metadata": {},
     "output_type": "display_data"
    },
    {
     "data": {
      "text/html": [
       "<pre style=\"white-space:pre;overflow-x:auto;line-height:normal;font-family:Menlo,'DejaVu Sans Mono',consolas,'Courier New',monospace\">┏━━━━━━━━━━━━━━━━━━━━━┳━━━━━━━━━━━━━━━━━━━┳━━━━━━━━━━━━┳━━━━━━━━━━━━━━━━━━━┓\n",
       "┃<span style=\"font-weight: bold\"> Layer (type)        </span>┃<span style=\"font-weight: bold\"> Output Shape      </span>┃<span style=\"font-weight: bold\">    Param # </span>┃<span style=\"font-weight: bold\"> Connected to      </span>┃\n",
       "┡━━━━━━━━━━━━━━━━━━━━━╇━━━━━━━━━━━━━━━━━━━╇━━━━━━━━━━━━╇━━━━━━━━━━━━━━━━━━━┩\n",
       "│ input_layer         │ (<span style=\"color: #00d7ff; text-decoration-color: #00d7ff\">None</span>, <span style=\"color: #00af00; text-decoration-color: #00af00\">124</span>)       │          <span style=\"color: #00af00; text-decoration-color: #00af00\">0</span> │ -                 │\n",
       "│ (<span style=\"color: #0087ff; text-decoration-color: #0087ff\">InputLayer</span>)        │                   │            │                   │\n",
       "├─────────────────────┼───────────────────┼────────────┼───────────────────┤\n",
       "│ input_layer_1       │ (<span style=\"color: #00d7ff; text-decoration-color: #00d7ff\">None</span>, <span style=\"color: #00af00; text-decoration-color: #00af00\">91</span>)        │          <span style=\"color: #00af00; text-decoration-color: #00af00\">0</span> │ -                 │\n",
       "│ (<span style=\"color: #0087ff; text-decoration-color: #0087ff\">InputLayer</span>)        │                   │            │                   │\n",
       "├─────────────────────┼───────────────────┼────────────┼───────────────────┤\n",
       "│ embedding           │ (<span style=\"color: #00d7ff; text-decoration-color: #00d7ff\">None</span>, <span style=\"color: #00af00; text-decoration-color: #00af00\">124</span>, <span style=\"color: #00af00; text-decoration-color: #00af00\">100</span>)  │    <span style=\"color: #00af00; text-decoration-color: #00af00\">404,400</span> │ input_layer[<span style=\"color: #00af00; text-decoration-color: #00af00\">0</span>][<span style=\"color: #00af00; text-decoration-color: #00af00\">0</span>] │\n",
       "│ (<span style=\"color: #0087ff; text-decoration-color: #0087ff\">Embedding</span>)         │                   │            │                   │\n",
       "├─────────────────────┼───────────────────┼────────────┼───────────────────┤\n",
       "│ embedding_1         │ (<span style=\"color: #00d7ff; text-decoration-color: #00d7ff\">None</span>, <span style=\"color: #00af00; text-decoration-color: #00af00\">91</span>, <span style=\"color: #00af00; text-decoration-color: #00af00\">100</span>)   │    <span style=\"color: #00af00; text-decoration-color: #00af00\">458,400</span> │ input_layer_1[<span style=\"color: #00af00; text-decoration-color: #00af00\">0</span>]… │\n",
       "│ (<span style=\"color: #0087ff; text-decoration-color: #0087ff\">Embedding</span>)         │                   │            │                   │\n",
       "├─────────────────────┼───────────────────┼────────────┼───────────────────┤\n",
       "│ lstm (<span style=\"color: #0087ff; text-decoration-color: #0087ff\">LSTM</span>)         │ [(<span style=\"color: #00d7ff; text-decoration-color: #00d7ff\">None</span>, <span style=\"color: #00af00; text-decoration-color: #00af00\">256</span>),     │    <span style=\"color: #00af00; text-decoration-color: #00af00\">365,568</span> │ embedding[<span style=\"color: #00af00; text-decoration-color: #00af00\">0</span>][<span style=\"color: #00af00; text-decoration-color: #00af00\">0</span>]   │\n",
       "│                     │ (<span style=\"color: #00d7ff; text-decoration-color: #00d7ff\">None</span>, <span style=\"color: #00af00; text-decoration-color: #00af00\">256</span>),      │            │                   │\n",
       "│                     │ (<span style=\"color: #00d7ff; text-decoration-color: #00d7ff\">None</span>, <span style=\"color: #00af00; text-decoration-color: #00af00\">256</span>)]      │            │                   │\n",
       "├─────────────────────┼───────────────────┼────────────┼───────────────────┤\n",
       "│ lstm_1 (<span style=\"color: #0087ff; text-decoration-color: #0087ff\">LSTM</span>)       │ [(<span style=\"color: #00d7ff; text-decoration-color: #00d7ff\">None</span>, <span style=\"color: #00af00; text-decoration-color: #00af00\">91</span>, <span style=\"color: #00af00; text-decoration-color: #00af00\">256</span>), │    <span style=\"color: #00af00; text-decoration-color: #00af00\">365,568</span> │ embedding_1[<span style=\"color: #00af00; text-decoration-color: #00af00\">0</span>][<span style=\"color: #00af00; text-decoration-color: #00af00\">0</span>… │\n",
       "│                     │ (<span style=\"color: #00d7ff; text-decoration-color: #00d7ff\">None</span>, <span style=\"color: #00af00; text-decoration-color: #00af00\">256</span>),      │            │ lstm[<span style=\"color: #00af00; text-decoration-color: #00af00\">0</span>][<span style=\"color: #00af00; text-decoration-color: #00af00\">1</span>],       │\n",
       "│                     │ (<span style=\"color: #00d7ff; text-decoration-color: #00d7ff\">None</span>, <span style=\"color: #00af00; text-decoration-color: #00af00\">256</span>)]      │            │ lstm[<span style=\"color: #00af00; text-decoration-color: #00af00\">0</span>][<span style=\"color: #00af00; text-decoration-color: #00af00\">2</span>]        │\n",
       "├─────────────────────┼───────────────────┼────────────┼───────────────────┤\n",
       "│ dense (<span style=\"color: #0087ff; text-decoration-color: #0087ff\">Dense</span>)       │ (<span style=\"color: #00d7ff; text-decoration-color: #00d7ff\">None</span>, <span style=\"color: #00af00; text-decoration-color: #00af00\">91</span>, <span style=\"color: #00af00; text-decoration-color: #00af00\">4584</span>)  │  <span style=\"color: #00af00; text-decoration-color: #00af00\">1,178,088</span> │ lstm_1[<span style=\"color: #00af00; text-decoration-color: #00af00\">0</span>][<span style=\"color: #00af00; text-decoration-color: #00af00\">0</span>]      │\n",
       "└─────────────────────┴───────────────────┴────────────┴───────────────────┘\n",
       "</pre>\n"
      ],
      "text/plain": [
       "┏━━━━━━━━━━━━━━━━━━━━━┳━━━━━━━━━━━━━━━━━━━┳━━━━━━━━━━━━┳━━━━━━━━━━━━━━━━━━━┓\n",
       "┃\u001b[1m \u001b[0m\u001b[1mLayer (type)       \u001b[0m\u001b[1m \u001b[0m┃\u001b[1m \u001b[0m\u001b[1mOutput Shape     \u001b[0m\u001b[1m \u001b[0m┃\u001b[1m \u001b[0m\u001b[1m   Param #\u001b[0m\u001b[1m \u001b[0m┃\u001b[1m \u001b[0m\u001b[1mConnected to     \u001b[0m\u001b[1m \u001b[0m┃\n",
       "┡━━━━━━━━━━━━━━━━━━━━━╇━━━━━━━━━━━━━━━━━━━╇━━━━━━━━━━━━╇━━━━━━━━━━━━━━━━━━━┩\n",
       "│ input_layer         │ (\u001b[38;5;45mNone\u001b[0m, \u001b[38;5;34m124\u001b[0m)       │          \u001b[38;5;34m0\u001b[0m │ -                 │\n",
       "│ (\u001b[38;5;33mInputLayer\u001b[0m)        │                   │            │                   │\n",
       "├─────────────────────┼───────────────────┼────────────┼───────────────────┤\n",
       "│ input_layer_1       │ (\u001b[38;5;45mNone\u001b[0m, \u001b[38;5;34m91\u001b[0m)        │          \u001b[38;5;34m0\u001b[0m │ -                 │\n",
       "│ (\u001b[38;5;33mInputLayer\u001b[0m)        │                   │            │                   │\n",
       "├─────────────────────┼───────────────────┼────────────┼───────────────────┤\n",
       "│ embedding           │ (\u001b[38;5;45mNone\u001b[0m, \u001b[38;5;34m124\u001b[0m, \u001b[38;5;34m100\u001b[0m)  │    \u001b[38;5;34m404,400\u001b[0m │ input_layer[\u001b[38;5;34m0\u001b[0m][\u001b[38;5;34m0\u001b[0m] │\n",
       "│ (\u001b[38;5;33mEmbedding\u001b[0m)         │                   │            │                   │\n",
       "├─────────────────────┼───────────────────┼────────────┼───────────────────┤\n",
       "│ embedding_1         │ (\u001b[38;5;45mNone\u001b[0m, \u001b[38;5;34m91\u001b[0m, \u001b[38;5;34m100\u001b[0m)   │    \u001b[38;5;34m458,400\u001b[0m │ input_layer_1[\u001b[38;5;34m0\u001b[0m]… │\n",
       "│ (\u001b[38;5;33mEmbedding\u001b[0m)         │                   │            │                   │\n",
       "├─────────────────────┼───────────────────┼────────────┼───────────────────┤\n",
       "│ lstm (\u001b[38;5;33mLSTM\u001b[0m)         │ [(\u001b[38;5;45mNone\u001b[0m, \u001b[38;5;34m256\u001b[0m),     │    \u001b[38;5;34m365,568\u001b[0m │ embedding[\u001b[38;5;34m0\u001b[0m][\u001b[38;5;34m0\u001b[0m]   │\n",
       "│                     │ (\u001b[38;5;45mNone\u001b[0m, \u001b[38;5;34m256\u001b[0m),      │            │                   │\n",
       "│                     │ (\u001b[38;5;45mNone\u001b[0m, \u001b[38;5;34m256\u001b[0m)]      │            │                   │\n",
       "├─────────────────────┼───────────────────┼────────────┼───────────────────┤\n",
       "│ lstm_1 (\u001b[38;5;33mLSTM\u001b[0m)       │ [(\u001b[38;5;45mNone\u001b[0m, \u001b[38;5;34m91\u001b[0m, \u001b[38;5;34m256\u001b[0m), │    \u001b[38;5;34m365,568\u001b[0m │ embedding_1[\u001b[38;5;34m0\u001b[0m][\u001b[38;5;34m0\u001b[0m… │\n",
       "│                     │ (\u001b[38;5;45mNone\u001b[0m, \u001b[38;5;34m256\u001b[0m),      │            │ lstm[\u001b[38;5;34m0\u001b[0m][\u001b[38;5;34m1\u001b[0m],       │\n",
       "│                     │ (\u001b[38;5;45mNone\u001b[0m, \u001b[38;5;34m256\u001b[0m)]      │            │ lstm[\u001b[38;5;34m0\u001b[0m][\u001b[38;5;34m2\u001b[0m]        │\n",
       "├─────────────────────┼───────────────────┼────────────┼───────────────────┤\n",
       "│ dense (\u001b[38;5;33mDense\u001b[0m)       │ (\u001b[38;5;45mNone\u001b[0m, \u001b[38;5;34m91\u001b[0m, \u001b[38;5;34m4584\u001b[0m)  │  \u001b[38;5;34m1,178,088\u001b[0m │ lstm_1[\u001b[38;5;34m0\u001b[0m][\u001b[38;5;34m0\u001b[0m]      │\n",
       "└─────────────────────┴───────────────────┴────────────┴───────────────────┘\n"
      ]
     },
     "metadata": {},
     "output_type": "display_data"
    },
    {
     "data": {
      "text/html": [
       "<pre style=\"white-space:pre;overflow-x:auto;line-height:normal;font-family:Menlo,'DejaVu Sans Mono',consolas,'Courier New',monospace\"><span style=\"font-weight: bold\"> Total params: </span><span style=\"color: #00af00; text-decoration-color: #00af00\">2,772,024</span> (10.57 MB)\n",
       "</pre>\n"
      ],
      "text/plain": [
       "\u001b[1m Total params: \u001b[0m\u001b[38;5;34m2,772,024\u001b[0m (10.57 MB)\n"
      ]
     },
     "metadata": {},
     "output_type": "display_data"
    },
    {
     "data": {
      "text/html": [
       "<pre style=\"white-space:pre;overflow-x:auto;line-height:normal;font-family:Menlo,'DejaVu Sans Mono',consolas,'Courier New',monospace\"><span style=\"font-weight: bold\"> Trainable params: </span><span style=\"color: #00af00; text-decoration-color: #00af00\">2,772,024</span> (10.57 MB)\n",
       "</pre>\n"
      ],
      "text/plain": [
       "\u001b[1m Trainable params: \u001b[0m\u001b[38;5;34m2,772,024\u001b[0m (10.57 MB)\n"
      ]
     },
     "metadata": {},
     "output_type": "display_data"
    },
    {
     "data": {
      "text/html": [
       "<pre style=\"white-space:pre;overflow-x:auto;line-height:normal;font-family:Menlo,'DejaVu Sans Mono',consolas,'Courier New',monospace\"><span style=\"font-weight: bold\"> Non-trainable params: </span><span style=\"color: #00af00; text-decoration-color: #00af00\">0</span> (0.00 B)\n",
       "</pre>\n"
      ],
      "text/plain": [
       "\u001b[1m Non-trainable params: \u001b[0m\u001b[38;5;34m0\u001b[0m (0.00 B)\n"
      ]
     },
     "metadata": {},
     "output_type": "display_data"
    },
    {
     "name": "stdout",
     "output_type": "stream",
     "text": [
      "None\n"
     ]
    }
   ],
   "source": [
    "model = create_model(vocab_size_input, vocab_size_output, max_seq_length_input, max_seq_length_output, embedding_dim, hidden_units)"
   ]
  },
  {
   "cell_type": "code",
   "execution_count": 128,
   "id": "d8a644b6-bdbe-4fd9-a8f0-f1484215491b",
   "metadata": {},
   "outputs": [],
   "source": [
    "#to note that the embedding and the dense layers contribute to the maximum number of parameters"
   ]
  },
  {
   "cell_type": "code",
   "execution_count": 122,
   "id": "b6432a7d-7680-47d8-b3a2-298748c63ec8",
   "metadata": {},
   "outputs": [],
   "source": [
    "#we have the model now to compile and fit on the data "
   ]
  },
  {
   "cell_type": "code",
   "execution_count": 78,
   "id": "abb8a105-2ad4-4051-823d-6d4a36bbae85",
   "metadata": {},
   "outputs": [],
   "source": [
    "model.compile(optimizer = 'adam', loss = 'sparse_categorical_crossentropy', metrics = ['accuracy'])"
   ]
  },
  {
   "cell_type": "code",
   "execution_count": 79,
   "id": "34c8da26-b506-4df5-92ba-966a87af75bb",
   "metadata": {},
   "outputs": [],
   "source": [
    "#define callbacks and checkpoints"
   ]
  },
  {
   "cell_type": "code",
   "execution_count": 80,
   "id": "860bf125-d47b-4e23-b4a2-00842c3b7b0d",
   "metadata": {},
   "outputs": [],
   "source": [
    "from keras.callbacks import EarlyStopping, ModelCheckpoint"
   ]
  },
  {
   "cell_type": "code",
   "execution_count": 81,
   "id": "fc8d5686-c283-4bdf-89c0-768321391d18",
   "metadata": {},
   "outputs": [],
   "source": [
    "callbacks = [\n",
    "    EarlyStopping(patience = 3, monitor = \"val_loss\"),\n",
    "    ModelCheckpoint(filepath='model_weights.weights.h5', save_best_only=True, save_weights_only=True, monitor='val_loss')\n",
    "]"
   ]
  },
  {
   "cell_type": "code",
   "execution_count": 84,
   "id": "96d17474-8524-4f32-a233-2586902eba9a",
   "metadata": {},
   "outputs": [],
   "source": [
    "batch_size = 60\n",
    "epochs = 20"
   ]
  },
  {
   "cell_type": "code",
   "execution_count": 85,
   "id": "cbc8b499-53fc-4bae-b7e9-febb141faadb",
   "metadata": {},
   "outputs": [
    {
     "data": {
      "text/plain": [
       "964"
      ]
     },
     "execution_count": 85,
     "metadata": {},
     "output_type": "execute_result"
    }
   ],
   "source": [
    "len(y_train_new)"
   ]
  },
  {
   "cell_type": "code",
   "execution_count": 87,
   "id": "e51c8f9f-a596-4de2-8d97-ab688a628c40",
   "metadata": {},
   "outputs": [
    {
     "name": "stdout",
     "output_type": "stream",
     "text": [
      "Epoch 1/10\n",
      "\u001b[1m17/17\u001b[0m \u001b[32m━━━━━━━━━━━━━━━━━━━━\u001b[0m\u001b[37m\u001b[0m \u001b[1m20s\u001b[0m 776ms/step - accuracy: 0.7385 - loss: 6.4936 - val_accuracy: 0.9231 - val_loss: 0.7938\n",
      "Epoch 2/10\n",
      "\u001b[1m17/17\u001b[0m \u001b[32m━━━━━━━━━━━━━━━━━━━━\u001b[0m\u001b[37m\u001b[0m \u001b[1m13s\u001b[0m 758ms/step - accuracy: 0.9191 - loss: 0.7920 - val_accuracy: 0.9231 - val_loss: 0.6929\n",
      "Epoch 3/10\n",
      "\u001b[1m17/17\u001b[0m \u001b[32m━━━━━━━━━━━━━━━━━━━━\u001b[0m\u001b[37m\u001b[0m \u001b[1m16s\u001b[0m 963ms/step - accuracy: 0.9215 - loss: 0.6755 - val_accuracy: 0.9231 - val_loss: 0.6680\n",
      "Epoch 4/10\n",
      "\u001b[1m17/17\u001b[0m \u001b[32m━━━━━━━━━━━━━━━━━━━━\u001b[0m\u001b[37m\u001b[0m \u001b[1m17s\u001b[0m 1s/step - accuracy: 0.9194 - loss: 0.6600 - val_accuracy: 0.9258 - val_loss: 0.6511\n",
      "Epoch 5/10\n",
      "\u001b[1m17/17\u001b[0m \u001b[32m━━━━━━━━━━━━━━━━━━━━\u001b[0m\u001b[37m\u001b[0m \u001b[1m16s\u001b[0m 951ms/step - accuracy: 0.9246 - loss: 0.6112 - val_accuracy: 0.9270 - val_loss: 0.6429\n",
      "Epoch 6/10\n",
      "\u001b[1m17/17\u001b[0m \u001b[32m━━━━━━━━━━━━━━━━━━━━\u001b[0m\u001b[37m\u001b[0m \u001b[1m17s\u001b[0m 1s/step - accuracy: 0.9263 - loss: 0.6028 - val_accuracy: 0.9315 - val_loss: 0.6364\n",
      "Epoch 7/10\n",
      "\u001b[1m17/17\u001b[0m \u001b[32m━━━━━━━━━━━━━━━━━━━━\u001b[0m\u001b[37m\u001b[0m \u001b[1m17s\u001b[0m 1000ms/step - accuracy: 0.9290 - loss: 0.5968 - val_accuracy: 0.9338 - val_loss: 0.6332\n",
      "Epoch 8/10\n",
      "\u001b[1m17/17\u001b[0m \u001b[32m━━━━━━━━━━━━━━━━━━━━\u001b[0m\u001b[37m\u001b[0m \u001b[1m15s\u001b[0m 868ms/step - accuracy: 0.9298 - loss: 0.5977 - val_accuracy: 0.9339 - val_loss: 0.6325\n",
      "Epoch 9/10\n",
      "\u001b[1m17/17\u001b[0m \u001b[32m━━━━━━━━━━━━━━━━━━━━\u001b[0m\u001b[37m\u001b[0m \u001b[1m15s\u001b[0m 870ms/step - accuracy: 0.9298 - loss: 0.5913 - val_accuracy: 0.9340 - val_loss: 0.6329\n",
      "Epoch 10/10\n",
      "\u001b[1m17/17\u001b[0m \u001b[32m━━━━━━━━━━━━━━━━━━━━\u001b[0m\u001b[37m\u001b[0m \u001b[1m15s\u001b[0m 868ms/step - accuracy: 0.9310 - loss: 0.5765 - val_accuracy: 0.9340 - val_loss: 0.6341\n"
     ]
    }
   ],
   "source": [
    "history = model.fit(x=[x_train_new, y_train_new[:, :-1]],\n",
    "                    y=y_train_new[:, 1:],  \n",
    "                    batch_size=batch_size,\n",
    "                    epochs=10,\n",
    "                    validation_data=([x_test_new, y_test_new[:, :-1]], y_test_new[:, 1:]),\n",
    "                    callbacks=callbacks)"
   ]
  },
  {
   "cell_type": "markdown",
   "id": "98585c2f-f76b-4d5b-9e07-2b06250bf1f1",
   "metadata": {},
   "source": [
    "### Saving Model Weights"
   ]
  },
  {
   "cell_type": "code",
   "execution_count": 88,
   "id": "ca8e9778-29d3-4123-ab13-1dd3cced28af",
   "metadata": {},
   "outputs": [
    {
     "name": "stdout",
     "output_type": "stream",
     "text": [
      "Model weights saved successfully.\n"
     ]
    }
   ],
   "source": [
    "weights_file_path = 'model_weights_main.weights.h5'\n",
    "model.save_weights(weights_file_path)\n",
    "print(\"Model weights saved successfully.\")"
   ]
  },
  {
   "cell_type": "markdown",
   "id": "18312531-25ea-4fcc-a965-e82c808b7534",
   "metadata": {},
   "source": [
    "### Plotting model accuracy and loss"
   ]
  },
  {
   "cell_type": "code",
   "execution_count": 89,
   "id": "ebd62cc9-465a-487c-8718-513eb294531d",
   "metadata": {},
   "outputs": [
    {
     "data": {
      "image/png": "[encoded data removed]",
      "text/plain": [
       "<Figure size 640x480 with 1 Axes>"
      ]
     },
     "metadata": {},
     "output_type": "display_data"
    }
   ],
   "source": [
    "plt.plot(history.history['loss'])\n",
    "plt.plot(history.history['val_loss'])\n",
    "plt.title('Model loss')\n",
    "plt.ylabel('Loss')\n",
    "plt.xlabel('Epoch')\n",
    "plt.legend(['Train', 'Validation'], loc='upper left')\n",
    "plt.show()"
   ]
  },
  {
   "cell_type": "code",
   "execution_count": 90,
   "id": "6fe2217b-5cca-4089-af28-fc86dc10e8e5",
   "metadata": {},
   "outputs": [
    {
     "data": {
      "image/png": "[encoded data removed]",
      "text/plain": [
       "<Figure size 640x480 with 1 Axes>"
      ]
     },
     "metadata": {},
     "output_type": "display_data"
    }
   ],
   "source": [
    "plt.plot(history.history['accuracy'])\n",
    "plt.plot(history.history['val_accuracy'])\n",
    "plt.title('Model Accuracy')\n",
    "plt.ylabel('Accuracy')\n",
    "plt.xlabel('Epoch')\n",
    "plt.legend(['Train', 'Validation'], loc='upper left')\n",
    "plt.show()"
   ]
  },
  {
   "cell_type": "code",
   "execution_count": 97,
   "id": "55671e56-da5b-4c9e-918c-cd00a88f5f9e",
   "metadata": {},
   "outputs": [
    {
     "data": {
      "text/plain": [
       "0.9313984513282776"
      ]
     },
     "execution_count": 97,
     "metadata": {},
     "output_type": "execute_result"
    }
   ],
   "source": [
    "max(history.history['accuracy'])"
   ]
  },
  {
   "cell_type": "code",
   "execution_count": 99,
   "id": "6ce324b5-4c12-4d9a-afc6-a941348bba30",
   "metadata": {},
   "outputs": [
    {
     "data": {
      "text/plain": [
       "0.9340205788612366"
      ]
     },
     "execution_count": 99,
     "metadata": {},
     "output_type": "execute_result"
    }
   ],
   "source": [
    "max(history.history['val_accuracy'])"
   ]
  },
  {
   "cell_type": "code",
   "execution_count": null,
   "id": "246053c4-5a13-4d8a-bfc5-6e97e8e4377c",
   "metadata": {},
   "outputs": [],
   "source": []
  }
 ],
 "metadata": {
  "kernelspec": {
   "display_name": "Python 3 (ipykernel)",
   "language": "python",
   "name": "python3"
  },
  "language_info": {
   "codemirror_mode": {
    "name": "ipython",
    "version": 3
   },
   "file_extension": ".py",
   "mimetype": "text/x-python",
   "name": "python",
   "nbconvert_exporter": "python",
   "pygments_lexer": "ipython3",
   "version": "3.11.7"
  }
 },
 "nbformat": 4,
 "nbformat_minor": 5
}
